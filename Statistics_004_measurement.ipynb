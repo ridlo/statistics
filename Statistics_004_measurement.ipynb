{
 "cells": [
  {
   "cell_type": "markdown",
   "metadata": {
    "slideshow": {
     "slide_type": "slide"
    }
   },
   "source": [
    "#### <code>Statistics</code>\n",
    "\n",
    "\n",
    "\n",
    "# Measurement\n",
    "---\n",
    "\n",
    "\n",
    "<small>Ridlo W. Wibowo | last update: 2023-03-27</small>"
   ]
  },
  {
   "cell_type": "code",
   "execution_count": null,
   "metadata": {},
   "outputs": [],
   "source": []
  },
  {
   "cell_type": "markdown",
   "metadata": {
    "slideshow": {
     "slide_type": "slide"
    }
   },
   "source": [
    "## Accuracy vs Precision\n",
    "---\n",
    "\n",
    "+ **Accuracy**, how close the measurement result from the true value, it is error / systematic / bias)\n",
    "\n",
    "+ **Precision**, a description of random errors / uncertainty, a measure of statistical variability.\n",
    "\n",
    "\n",
    "<img src=\"https://raw.githubusercontent.com/ridlo/statistics/main/img/accuracy_precision.jpg\" width=400>\n"
   ]
  },
  {
   "cell_type": "markdown",
   "metadata": {
    "slideshow": {
     "slide_type": "subslide"
    }
   },
   "source": [
    "## Error vs Uncertainty\n",
    "---\n",
    "\n",
    "+ **Systematic Error** = **Bias Error** = **Error** is the difference between the measured value and the \"true value\" of the thing being measured.\n",
    "\n",
    "+ **Random Error** = **Precision Error** = **Uncertainty** is a quantification of the doubt about the measurement result\n",
    "\n",
    "---\n",
    "\n",
    "+ Remember, in real measurement, we never truly know the **true value**.\n",
    "\n",
    "+ Whenever possible we try to correct for any **known errors**: for example, by applying *corrections* from calibration. \n",
    "    \n",
    "+ But any error whose value we do not know is a source of **uncertainty**\n",
    "    \n",
    "+ To correct the systematic you need to understand all the factor that can influence your data, from the source, environment, detector (how we collect the data), etc.\n",
    "   \n",
    "<img src=\"https://raw.githubusercontent.com/ridlo/statistics/main/img/error_uncertainty.png\" width=400>\n",
    "\n",
    "<img src=\"https://raw.githubusercontent.com/ridlo/statistics/main/img/error_uncertainty_2.PNG\" width=300>"
   ]
  },
  {
   "cell_type": "code",
   "execution_count": null,
   "metadata": {},
   "outputs": [],
   "source": []
  },
  {
   "cell_type": "markdown",
   "metadata": {
    "slideshow": {
     "slide_type": "slide"
    }
   },
   "source": [
    "### Uncertainty / Random Error\n",
    "---\n",
    "\n",
    "- the uncertainty $u$ can be written in *absolute uncertainty*, $\\Delta x$, or *relative uncertainty*, $\\Delta x / x$\n",
    "- the measured quantity and it's uncertainty can be expressed in an interval: $x \\pm u$\n",
    "- If the statistical probability distribution of the variable is known or can be assumed, it is possible to derive **confidence limits** to describe the region within which the true value of the variable may be found. \n",
    "    + For example, the 68% confidence limits for a one-dimensional variable belonging to a normal distribution are approximately $\\pm$ one standard deviation $\\sigma$ from the central value $x$, which means that the region $x \\pm \\sigma$ will cover the true value in roughly 68% of cases.\n",
    "\n",
    "\n",
    "<img src=\"https://raw.githubusercontent.com/ridlo/statistics/main/img/std_dev.PNG\" width=400>"
   ]
  },
  {
   "cell_type": "markdown",
   "metadata": {
    "slideshow": {
     "slide_type": "subslide"
    }
   },
   "source": [
    "## Reporting Measurements and Experimental Results\n",
    "\n",
    "+ Remember the fundamental physics class? How do we report the length of this object? \n",
    "<img src=\"https://raw.githubusercontent.com/ridlo/statistics/main/img/ruler.PNG\" width=500>\n",
    "\n",
    "$$x = 2.75 \\pm 0.05$$\n",
    "\n",
    "+ Menyatakan hasil pengukuran\n",
    "\n",
    "    $$\\text{best estimate } \\pm \\text{ uncertainty}$$\n",
    "\n",
    "+ Genereal rule of thumb\n",
    "    + pengukuran dengan skala mekanik (misal: penggaris)\n",
    "    \n",
    "        $$\\text{uncertainty} = \\frac{\\text{smallest increment}}{2}$$\n",
    "        \n",
    "    + pengukuran dengan skala digital (misal: timbangan digital)\n",
    "    \n",
    "        $$\\text{uncertainty} = \\text{smallest increment}$$"
   ]
  },
  {
   "cell_type": "code",
   "execution_count": null,
   "metadata": {},
   "outputs": [],
   "source": []
  },
  {
   "cell_type": "markdown",
   "metadata": {
    "slideshow": {
     "slide_type": "-"
    }
   },
   "source": [
    "+ Always round the experimental measurement or result to the same decimal place as the uncertainty. \n",
    "\n",
    "    It would be confusing (and perhaps dishonest) to suggest that you knew the digit in the hundredths (or thousandths) place when you admit that you unsure of the tenths place.\n",
    "\n",
    "    **Wrong**: 1.237 ± 0.1\n",
    "\n",
    "    **Correct**: 1.2 ± 0.1\n",
    "\n",
    "---\n",
    "+ Experimental uncertainties should be / usually rounded to one to two significant figure. \n",
    "\n",
    "    Experimental uncertainties are, by nature, inexact. Uncertainties are almost always quoted to one significant digit (example: ±0.05 s). If the uncertainty starts with a one, some scientists quote the uncertainty to two significant digits (example: ±0.0012 kg).\n",
    "\n",
    "    **Wrong**: 52.3 ± 4.1\n",
    "\n",
    "    **Correct**: 52 ± 4\n",
    "\n"
   ]
  },
  {
   "cell_type": "code",
   "execution_count": null,
   "metadata": {},
   "outputs": [],
   "source": []
  },
  {
   "cell_type": "markdown",
   "metadata": {
    "slideshow": {
     "slide_type": "subslide"
    }
   },
   "source": [
    "### Note: Rules for Significant Figures\n",
    "\n",
    "Source: https://ccnmtl.columbia.edu/projects/mmt/frontiers/web/chapter_5/6665.html\n",
    "\n",
    "\n",
    "1. All non-zero numbers ARE significant. \n",
    "\n",
    "    Example: The number 33.2 has THREE significant figures because all of the digits present are non-zero.\n",
    "    \n",
    "    \n",
    "2. Zeros between two non-zero digits ARE significant. \n",
    "\n",
    "    Example: 2051 has FOUR significant figures. The zero is between a 2 and a 5.\n",
    "\n",
    "\n",
    "3. Leading zeros are NOT significant. They're nothing more than \"place holders.\" \n",
    "\n",
    "    Example: The number 0.54 has only TWO significant figures. 0.0032 also has TWO significant figures. All of the zeros are leading.\n",
    "    \n",
    "    \n",
    "4. Trailing zeros to the right of the decimal ARE significant. \n",
    "\n",
    "    Example: There are FOUR significant figures in 92.00. 92.00 is different from 92: a scientist who measures 92.00 milliliters knows his value to the nearest 1/100th milliliter; meanwhile his colleague who measured 92 milliliters only knows his value to the nearest 1 milliliter. It's important to understand that \"zero\" does not mean \"nothing.\" Zero denotes actual information, just like any other number. You cannot tag on zeros that aren't certain to belong there.\n",
    "    \n",
    "    \n",
    "5. Trailing zeros in a whole number with the decimal shown ARE significant. Placing a decimal at the end of a number is usually not done. \n",
    "\n",
    "    Example: By convention, however, this decimal indicates a significant zero. For example, \"540.\" indicates that the trailing zero IS significant; there are THREE significant figures in this value.\n",
    "    \n",
    "    \n",
    "6. Trailing zeros in a whole number with no decimal shown are NOT significant. \n",
    "\n",
    "    Example: Writing just \"540\" indicates that the zero is NOT significant, and there are only TWO significant figures in this value.\n",
    "\n",
    "\n",
    "7. Exact numbers have an INFINITE number of significant figures. \n",
    "\n",
    "    Example: \n",
    "    \n",
    "    + This rule applies to numbers that are definitions. For example, 1 meter = 1.00 meters = 1.0000 meters = 1.0000000000000000000 meters, etc. \n",
    "    \n",
    "    + Round 1000.3 to four significant figures. 1000.3 has five significant figures (the zeros are between non-zero digits 1 and 3, so by rule 2 above, they are significant.) We need to drop the final 3, and since 3 < 5, we leave the last zero alone. so 1000. is our four-significant-figure answer. (from rules 5 and 6, we see that in order for the trailing zeros to \"count\" as significant, they must be followed by a decimal. Writing just \"1000\" would give us only one significant figure.)\n",
    "    \n",
    "    \n",
    "8. For a number in scientific notation: $N \\times 10^x$, all digits comprising $N$ ARE significant by the first 6 rules; \"10\" and \"$x$\" are NOT significant. \n",
    "\n",
    "    Example: $5.02 \\times 10^4$ has THREE significant figures: \"5.02.\" \"10 and \"4\" are not significant. \n",
    "    \n",
    "    Rule 8 provides the opportunity to change the number of significant figures in a value by manipulating its form. For example, let's try writing 1100 with THREE significant figures. By rule 6, 1100 has TWO significant figures; its two trailing zeros are not significant. If we add a decimal to the end, we have 1100., with FOUR significant figures (by rule 5.) But by writing it in scientific notation: $1.10 \\times 10^3$, we create a THREE-significant-figure value."
   ]
  },
  {
   "cell_type": "code",
   "execution_count": null,
   "metadata": {
    "slideshow": {
     "slide_type": "subslide"
    }
   },
   "outputs": [],
   "source": []
  },
  {
   "cell_type": "markdown",
   "metadata": {
    "slideshow": {
     "slide_type": "slide"
    }
   },
   "source": [
    "## Propagation of uncertainty\n",
    "---\n",
    "\n",
    "+ Propagation of uncertainty (or propagation of error, more specifically *random errors*) is the effect of variables' uncertainties on the uncertainty of a function based on them.\n",
    "\n",
    "+ What is the uncertainty for a function $f(x, y, z,...)$ i.e. $\\sigma_f$ if we know the input variables and it's uncertainties $(x \\pm \\sigma_x, y \\pm \\sigma_y, z \\pm \\sigma_z, ...)$?\n",
    "\n",
    "+ Neglecting **correlations** or assuming **independent variables** yields a common formula:\n",
    "\n",
    "$$\\sigma_f = \\sqrt{\\left( \\frac{\\partial f}{\\partial x} \\right)^2 \\sigma_x^2 + \\left( \\frac{\\partial f}{\\partial y} \\right)^2 \\sigma_y^2 + \\left( \\frac{\\partial f}{\\partial z} \\right)^2 \\sigma_z^2 + ...}$$\n",
    "\n",
    "+ Other form (variance):\n",
    "\n",
    "$$\\sigma_{f}^2 = \\sum_i \\left(\\frac{\\partial f}{\\partial \\theta_i}\\right)^2 \\sigma_{\\theta_i}^2$$\n",
    "\n",
    "\n",
    "+ Example:\n",
    "\n",
    "| ... function $(f)$ ... | ... propagation of uncertainty $(\\sigma_f)$ ...|\n",
    "| --- | --- |\n",
    "| $ax \\pm b$ | $a \\sigma_x$ |\n",
    "| $x \\pm y$ | $\\sqrt{\\sigma_x^2 + \\sigma_y^2}$|\n",
    "| $c x^a y^b$ | $\\frac{\\sigma_f}{f} = \\left[ \\left( a \\frac{\\sigma_x}{x} \\right)^2 + \\left( b \\frac{\\sigma_y}{y} \\right)^2 \\right]^{\\frac{1}{2}}$ |\n",
    "| $a \\ln{bx}$ | $\\left\\vert a \\frac{\\sigma_x}{x} \\right\\vert$ |\n",
    "| $a \\log_{10}{bx}$ | $\\left\\vert a \\frac{\\sigma_x}{x \\ln{10}} \\right\\vert$ |\n",
    "| $ae^{bx}$ | $|f||b \\sigma_x|$ |\n",
    "| $a^{bx}$ | $|f||b \\ln{(a)} \\sigma_x|$ |\n",
    "| $a\\sin{bx}$ | $a b \\cos{(bx)} \\sigma_x$ |\n",
    "\n",
    "List lebih lengkap: https://en.wikipedia.org/wiki/Propagation_of_uncertainty"
   ]
  },
  {
   "cell_type": "markdown",
   "metadata": {
    "slideshow": {
     "slide_type": "subslide"
    }
   },
   "source": [
    "**Exercise**\n",
    "\n",
    "---\n",
    "\n",
    "1. Saitama mengukur panjang meja $120 \\pm 2$ cm dan lebar meja $75 \\pm 1$ cm, berapa luas meja dan galatnya?\n",
    "\n",
    "\n",
    "2. Sebuah partikel memiliki massa $m = 12.3 \\pm 0.5$ kg dan kecepatan $v = 15.4 \\pm 0.2$ m/s. Hitung energi kinetik partikel dan ketidakpastiannya!\n",
    "\n",
    "\n",
    "3. Sebuah bintang memiliki paralaks $p = 0.01 \\pm 0.001$ detik busur, hitung jarak dan ketidakpastiannya dalam parsek!\n",
    "\n",
    "\n",
    "4. Sebuah bintang diukur fluksnya dengan CCD memiliki count $10000 \\pm 100$, hitung nilai magnitudo dan ketidakpastiannya jika count 1000 berasosiasi dengan bintang bermagnitudo 1! (alat dan waktu integrasi sama)\n",
    "\n",
    "\n",
    "5. Suatu fungsi memiliki bentuk $f(x, \\theta)  = 4 x \\cos{ 3 \\theta}$. Jika diperoleh data $x = 3.2 \\pm 0.5$ dan $\\theta = (23.3 \\pm 0.7)^{\\circ}$, hitung nilai fungsi dan ketidakpastiannya!\n",
    "\n"
   ]
  },
  {
   "cell_type": "code",
   "execution_count": null,
   "metadata": {},
   "outputs": [],
   "source": []
  },
  {
   "cell_type": "markdown",
   "metadata": {
    "slideshow": {
     "slide_type": "subslide"
    }
   },
   "source": [
    "### Comparing the experimental/observational results\n",
    "\n",
    "---\n",
    "\n",
    "Uncertainty estimates are crucial for comparing experimental numbers. For example:\n",
    "\n",
    "+ Measurements don't agree: $0.86 \\pm 0.02$ and $0.98 \\pm 0.02$\n",
    "\n",
    "+ Measurements agree:\t$0.86 \\pm 0.08$ and $0.98 \\pm 0.08$\n",
    "\n",
    "Later, we will learn how quantify this \"agreement\" or \"disagreement\" $\\rightarrow$ comparing 2 gaussian/normal distribution\n"
   ]
  },
  {
   "cell_type": "code",
   "execution_count": null,
   "metadata": {},
   "outputs": [],
   "source": []
  },
  {
   "cell_type": "markdown",
   "metadata": {
    "slideshow": {
     "slide_type": "subslide"
    }
   },
   "source": [
    "## Estimating uncertainty from multiple measurements\n",
    "___\n",
    "\n",
    "+ One way to increase your confidence in experimental data is to repeat the same measurement many times. \n",
    "\n",
    "+ For example, one way to estimate the amount of time it takes something to happen is to simply time it once with a stopwatch. You can decrease the uncertainty in this estimate by making this same measurement multiple times and taking the average. The more measurements you take (provided there is no problem with the clock!), the better your estimate will be.\n",
    "\n",
    "+ we can calculate the mean from our measurements and estimate the \"uncertainty for the mean\" value (standard error):\n",
    "    $$x_\\text{est} = \\frac{\\sum w_i x_i}{\\sum w_i} \\quad \\text{where} \\quad w_i = \\frac{1}{\\sigma_i^2} $$\n",
    "\n",
    "    $$\\sigma_\\text{est} = \\left( \\sum w_i \\right)^{-1/2}$$\n",
    "    \n",
    "    + if $\\sigma_i$ is the same for all ($N$) measurements,\n",
    "\n",
    "        $$x_\\text{est} = \\frac{1}{N} \\sum{x_i}$$\n",
    "\n",
    "        $$\\sigma_\\text{est} = \\frac{\\sigma}{\\sqrt{N}}$$"
   ]
  },
  {
   "cell_type": "code",
   "execution_count": null,
   "metadata": {},
   "outputs": [],
   "source": []
  },
  {
   "cell_type": "markdown",
   "metadata": {
    "slideshow": {
     "slide_type": "slide"
    }
   },
   "source": [
    "## Probability of Multiple Random Variables\n",
    "\n",
    "---\n",
    "\n",
    "Similar to probability of multiple events, we can also define certain terms in probability of multiple random variables\n",
    "\n",
    "+ **Joint Probability Distribution**, $p (A \\text{ and } B) = p(A \\cap B)$\n",
    "\n",
    "+ **Marginal Probability Distribution**, $p (A) $\n",
    "\n",
    "+ **Conditional Probability Distribution**, $p(A|B)$\n",
    "\n",
    "For example we have data/prob distribution of 2 random variables ($X$, $Y$):\n",
    "- which one is joint probability distribution $p(X \\text{ and } Y)$?\n",
    "- which one is marginal probability distribution for $X$, $p(X)$?\n",
    "- which one is conditional probability distribution $p(X \\vert 1 \\leq Y \\leq 1.5)$?\n",
    "\n",
    "<img src=\"https://raw.githubusercontent.com/ridlo/statistics/main/img/joint_prob.png\" width=400>"
   ]
  },
  {
   "cell_type": "code",
   "execution_count": null,
   "metadata": {},
   "outputs": [],
   "source": []
  },
  {
   "cell_type": "markdown",
   "metadata": {
    "slideshow": {
     "slide_type": "subslide"
    }
   },
   "source": [
    "<code>Draft</code>\n",
    "### Covariance and correlation\n",
    "\n",
    "---\n",
    "\n",
    "In probability theory and statistics, the mathematical concepts of covariance and correlation are very similar. Both describe **the degree to which two random variables or sets of random variables tend to deviate from their expected values in similar ways**.\n",
    "\n",
    "+ covariance, $\\text{cov}_{XY} = \\sigma _{XY} = \\text{E}[(X-\\mu _{X})\\,(Y-\\mu _{Y})] $\n",
    "\n",
    "+ correlation, $\\text{corr}_{XY} = \\rho _{XY} = \\text{E}[(X-\\mu _{X})\\,(Y-\\mu _{Y})]/(\\sigma _{X}\\sigma _{Y})$\n",
    "\n",
    "or\n",
    "\n",
    "$\\rho_{XY}=\\frac{\\sigma _{XY}}{\\sigma _{X}\\sigma _{Y}}$\n",
    "\n",
    "Correlation between two random variables:\n",
    "<img src=\"https://raw.githubusercontent.com/ridlo/statistics/main/img/correlation.PNG\" width=800>\n",
    "\n",
    "Later we will learn more on this... i.e. Pearson correlation coef and Spearman correlation coef."
   ]
  },
  {
   "cell_type": "code",
   "execution_count": null,
   "metadata": {},
   "outputs": [],
   "source": []
  },
  {
   "cell_type": "markdown",
   "metadata": {
    "slideshow": {
     "slide_type": "subslide"
    }
   },
   "source": [
    "+ If Y always takes on the same values as X, we have the covariance of a variable with itself $\\sigma_{XX}$, which is called the variance and is more commonly denoted as $\\sigma_{X}^{2}$, the square of the standard deviation. \n",
    "\n",
    "+ The correlation of a variable with itself is always 1 (except in the degenerate case where the two variances are zero because $X$ always takes on the same single value, in which case the correlation does not exist since its computation would involve division by 0).\n",
    "\n",
    "+ More generally, the correlation between two variables is 1 (or -1) if one of them always takes on a value that is given exactly by a linear function of the other with respectively a positive (or negative) slope.\n",
    " \n",
    "+ For multiple random variables we can build \"covariance matrix\" or \"correlation matrix\" to show the **relation** between variables.\n",
    "\n",
    "+ Example: \n",
    "\n",
    "    variabel mana yang memiliki korelasi/antikorelasi paling tinggi?\n",
    "\n",
    "    <img src=\"https://raw.githubusercontent.com/ridlo/statistics/main/img/corner.png\" width=400>"
   ]
  },
  {
   "cell_type": "code",
   "execution_count": 1,
   "metadata": {},
   "outputs": [],
   "source": [
    "import numpy as np"
   ]
  },
  {
   "cell_type": "code",
   "execution_count": 2,
   "metadata": {},
   "outputs": [
    {
     "name": "stdout",
     "output_type": "stream",
     "text": [
      "[ 0.03845356 -0.03118388]\n",
      "[[ 4.74397781 -2.91423685]\n",
      " [-2.91423685  3.14845683]]\n",
      "-0.7540578220510497\n"
     ]
    }
   ],
   "source": [
    "# Here we generate 1000 samples from the bivariate normal distribution with mean [0, 0] \n",
    "# and covariance matrix [[5, -3], [-3, 3.2]]. \n",
    "# The expected variances of the first and second components of the sample are 6 and 3.5, respectively, \n",
    "# and the expected correlation coefficient is -3/sqrt(5*3.2) ≈ 0.75.\n",
    "cov = np.array([[ 5,  -3], \n",
    "                [-3, 3.2]])\n",
    "\n",
    "# generate gaussian 2D data\n",
    "pts = np.random.multivariate_normal([0, 0], cov, size=1000)\n",
    "\n",
    "# check the result \n",
    "print(pts.mean(axis=0))\n",
    "print(np.cov(pts.T))\n",
    "print(np.corrcoef(pts.T)[0, 1])"
   ]
  },
  {
   "cell_type": "code",
   "execution_count": 3,
   "metadata": {},
   "outputs": [
    {
     "data": {
      "image/png": "[encoded data removed]",
      "text/plain": [
       "<Figure size 432x288 with 1 Axes>"
      ]
     },
     "metadata": {
      "needs_background": "light"
     },
     "output_type": "display_data"
    }
   ],
   "source": [
    "import matplotlib.pyplot as plt\n",
    "\n",
    "plt.plot(pts[:, 0], pts[:, 1], '.', alpha=0.5)\n",
    "plt.axis('equal')\n",
    "plt.grid()\n",
    "plt.show()"
   ]
  },
  {
   "cell_type": "code",
   "execution_count": null,
   "metadata": {},
   "outputs": [],
   "source": []
  }
 ],
 "metadata": {
  "kernelspec": {
   "display_name": "Python 3",
   "language": "python",
   "name": "python3"
  },
  "language_info": {
   "codemirror_mode": {
    "name": "ipython",
    "version": 3
   },
   "file_extension": ".py",
   "mimetype": "text/x-python",
   "name": "python",
   "nbconvert_exporter": "python",
   "pygments_lexer": "ipython3",
   "version": "3.8.8"
  }
 },
 "nbformat": 4,
 "nbformat_minor": 4
}
