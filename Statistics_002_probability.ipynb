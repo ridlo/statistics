{
 "cells": [
  {
   "cell_type": "markdown",
   "metadata": {
    "slideshow": {
     "slide_type": "slide"
    }
   },
   "source": [
    "#### <code>Statistics</code>\n",
    "\n",
    "\n",
    "\n",
    "# Probability\n",
    "---\n",
    "\n",
    "\n",
    "<small>Ridlo W. Wibowo | last update: 2023-02-20</small>"
   ]
  },
  {
   "cell_type": "code",
   "execution_count": null,
   "metadata": {},
   "outputs": [],
   "source": []
  },
  {
   "cell_type": "markdown",
   "metadata": {
    "slideshow": {
     "slide_type": "slide"
    }
   },
   "source": [
    "## Definitions\n",
    "---\n",
    "\n",
    "+ <b>Experiment</b>: when a trial/observation is conducted to obtain some \"statistical\" information\n",
    "    + Example:\n",
    "        + Tossing a coin\n",
    "        + Rolling a dice\n",
    "        + Rolling 2 dices\n",
    "        + Measure the length of a table\n",
    "        + Measure ..."
   ]
  },
  {
   "cell_type": "markdown",
   "metadata": {
    "slideshow": {
     "slide_type": "subslide"
    }
   },
   "source": [
    "+ <b>Events</b>: the possible outcomes of a trial; usually denoted as a capital, e.g. $E$\n",
    "    + Example:\n",
    "        + In tossing a coin, the outcomes -- (1) head or (2) tail, are the events\n",
    "        + Tossing 2 coins\n",
    "            + Event E, the two coins come up different {HT, TH}\n",
    "            + Event F, both flips come up heads {HH}\n",
    "            + The measured length of a table is 100.5 cm\n",
    "            + etc\n",
    "    \n",
    "    \n",
    "+ <b>Favorable events</b>: is the event which we are considering for study \n"
   ]
  },
  {
   "cell_type": "markdown",
   "metadata": {
    "slideshow": {
     "slide_type": "subslide"
    }
   },
   "source": [
    "+ <b>Sample Space</b>: list/set of all the possible outcomes, $\\Omega$\n",
    "    + Example: \n",
    "        + The set of {H, T} in tossing a coin 1x\n",
    "        + The set of {1, 2, 3, 4, 5, 6} in rolling a dice 1x\n",
    "        + Flipping 2 coins: {HH, HT, TH, TT}\n",
    "        \n",
    "$$E \\subseteq \\Omega $$"
   ]
  },
  {
   "cell_type": "markdown",
   "metadata": {
    "slideshow": {
     "slide_type": "subslide"
    }
   },
   "source": [
    "+ <b>Exercise</b>:\n",
    "    1. Experiment: rolling 2 dices\n",
    "        + what is the sample space, $\\Omega$? \n",
    "        + the size of the sample space, $\\vert \\Omega \\vert$? \n",
    "    \n",
    "    2. Experiment: rolling 1 dice and 1 coin together\n",
    "        + what is the sample space?\n",
    "        + the size of the sample space?"
   ]
  },
  {
   "cell_type": "code",
   "execution_count": null,
   "metadata": {
    "slideshow": {
     "slide_type": "-"
    }
   },
   "outputs": [],
   "source": []
  },
  {
   "cell_type": "markdown",
   "metadata": {
    "slideshow": {
     "slide_type": "slide"
    }
   },
   "source": [
    "## Probability\n",
    "---\n",
    "+ Probability is the measure of the likelihood that an event will occur. \n",
    "+ Probability is quantified as a number between 0 (impossibility) and 1 (certainty).\n",
    "+ The probability of an event $E$ is written as $P(E)$, $p(E)$, $Pr(E)$ \n",
    "\n",
    "+ If the events in the sample space are **equally probable**\n",
    "$$P(E) = \\frac{|E|}{|\\Omega|} \\quad \\text{ where } \\quad E \\subseteq \\Omega$$"
   ]
  },
  {
   "cell_type": "markdown",
   "metadata": {
    "slideshow": {
     "slide_type": "subslide"
    }
   },
   "source": [
    "+ Which one is the fair dice (equally probable for each side)?\n",
    "\n",
    "<!-- ![](img/dice.png) -->\n",
    "\n",
    "<img src=\"img/dice.png\" width=200>"
   ]
  },
  {
   "cell_type": "code",
   "execution_count": null,
   "metadata": {},
   "outputs": [],
   "source": []
  },
  {
   "cell_type": "markdown",
   "metadata": {
    "slideshow": {
     "slide_type": "subslide"
    }
   },
   "source": [
    "## Relation between events\n",
    "---\n",
    "\n",
    "+ <b>Complementary Events</b>\n",
    "    \n",
    "    The complementary of an event $E$ is $E^{c} := \\Omega - E$. This is the event that $E$ does not occur.\n",
    "\n",
    "    Note: $E \\cap E^{c} = \\emptyset$ and $E \\cup E^{c} = \\Omega$\n",
    "    \n",
    "    Notation: $E^{c}$, $\\bar{E}$, $E^*$, $\\neg E$\n",
    "    \n",
    "    ![](img/comp_event.png)\n",
    "    \n",
    "    $P(\\text{not } A) = P(\\neg A) = P(A^c) = 1 - P(A)$"
   ]
  },
  {
   "cell_type": "code",
   "execution_count": null,
   "metadata": {},
   "outputs": [],
   "source": []
  },
  {
   "cell_type": "markdown",
   "metadata": {
    "slideshow": {
     "slide_type": "subslide"
    }
   },
   "source": [
    "+ **Independent Events**\n",
    "\n",
    "    + If two events, A and B are independent then the joint probability is\n",
    "    $$P (A \\text{ and } B) = P(A \\cap B) = P(A) P(B)$$\n",
    "    \n",
    "    + Example: \n",
    "        + if two coins are flipped, then the chance of both being heads is $\\frac{1}{2} \\times \\frac{1}{2} = \\frac{1}{4}$\n",
    "    \n",
    "    \n",
    "+ **Dependent Events**\n",
    "    \n",
    "    + If the probability of one event does effect the probability of a 2nd event.\n",
    "    \n",
    "    + Example:\n",
    "        + Siri selects a shirt from her closet to wear on Monday and then a different shirt to wear on Tuesday.\n",
    "        + Three cards are selected at random from a standard deck of 52 cards. What is the probability that all three cards are diamonds if neither the first nor the second card are replaced? Ans: $\\frac{13}{52} \\cdot \\frac{12}{52} \\cdot \\frac{11}{52}$"
   ]
  },
  {
   "cell_type": "code",
   "execution_count": null,
   "metadata": {},
   "outputs": [],
   "source": []
  },
  {
   "cell_type": "markdown",
   "metadata": {
    "slideshow": {
     "slide_type": "subslide"
    }
   },
   "source": [
    "+ **Mutually exclusive events**\n",
    "\n",
    "    If either event A or event B can occur but never both simultaneously, then they are called mutually exclusive events.\n",
    "    \n",
    "    If two events are mutually exclusive, then the probability of *both* occurring is denoted as $P(A \\cap B)$ and \n",
    "    $$P (A \\text{ and } B) = P(A \\cap B) = 0 $$\n",
    "    \n",
    "    If two events are mutually exclusive, then the probability of *either* occurring is denoted as $P(A \\cup B)$ and \n",
    "    $$P(A \\text{ or } B) = P(A \\cup B) = P(A) + P(B) - P(A \\cap B) = P(A) + P(B) - 0 = P(A) + P(B)$$\n",
    "    \n",
    "    Example: \n",
    "    + the chance of rolling a 1 or 2 on a six-sided die is $P (1 \\text{ or } 2) = P(1) + P(2) = \\frac{1}{6} + \\frac{1}{6} = \\frac{1}{3}$"
   ]
  },
  {
   "cell_type": "markdown",
   "metadata": {
    "slideshow": {
     "slide_type": "subslide"
    }
   },
   "source": [
    "+ **Not mutually exclusive events**\n",
    "\n",
    "    If the events are not mutually exclusive then\n",
    "    \n",
    "    $$P (A \\text{ or } B) = P(A \\cup B) = P(A) + P(B) - P(A \\text{ and } B)$$\n",
    "    \n",
    "    Example: \n",
    "    + when drawing a single card at random from a regular deck of cards, the chance of getting a heart or a face card (J,Q,K) (or one that is both) is $\\frac{13}{52}+ \\frac{12}{52} - \\frac{3}{52} = \\frac{11}{26}$, since among the 52 cards of a deck, 13 are hearts, 12 are face cards, and 3 are both: here the possibilities included in the \"3 that are both\" are included in each of the \"13 hearts\" and the \"12 face cards\", but should only be counted once."
   ]
  },
  {
   "cell_type": "code",
   "execution_count": null,
   "metadata": {},
   "outputs": [],
   "source": []
  },
  {
   "cell_type": "markdown",
   "metadata": {
    "slideshow": {
     "slide_type": "subslide"
    }
   },
   "source": [
    "## Permutation & Combination\n",
    "---\n",
    "\n",
    "+ In calculating the probability of an event $P(E)$, we need to know the **sample space** ($\\Omega$) i.e. *the number of all possible outcomes* $\\rightarrow$ we need to calculate *the number of ways* that event can occur. \n",
    "\n",
    "    Example: \n",
    "    \n",
    "    + I flip a coin two times, what is the probability I get 1 Head and 1 Tail?\n",
    "    + I flip a coin two times, what is the probability getting Head and then getting Tail?\n",
    "\n",
    "\n",
    "+ To calculate the number of ways an event can occur and the number of all possible outcomes, we need to consider if the **order** of each event/sub-event **is matter or not**!\n",
    "    + when the order does not matter --- combination\n",
    "    + when the order/**p**osition does matter --- **p**ermutation \n",
    "    \n",
    "    \n",
    "+ Each (permutation & combination) can be divided into 2 where **repetition** is **allowed** or **not**"
   ]
  },
  {
   "cell_type": "markdown",
   "metadata": {
    "slideshow": {
     "slide_type": "subslide"
    }
   },
   "source": [
    "### Permutation\n",
    "\n",
    "---\n",
    "\n",
    "+ **Repetition is allowed**\n",
    "\n",
    "    + Example: I have a permutation-lock like this, what is the number of \"permutation\" we can choose from this lock as a password?\n",
    "        \n",
    "        <img src=\"img\\permutation_lock.png\" width=100 >\n",
    "        \n",
    "    + The formula:\n",
    "        \n",
    "$$nPr = P(n,r) = n^r$$\n",
    "    \n",
    "---\n",
    "    \n",
    "+ **Repetition is NOT allowed**\n",
    "    \n",
    "    + Example: How many ways can first, second, and third place be awarded to 10 people?\n",
    "    \n",
    "    <img src=\"img/winner.png\" width=200>\n",
    "    \n",
    "    + The formula:\n",
    "$$nPk = P(n,k) = \\frac{n!}{(n-k)!}$$"
   ]
  },
  {
   "cell_type": "code",
   "execution_count": null,
   "metadata": {},
   "outputs": [],
   "source": []
  },
  {
   "cell_type": "markdown",
   "metadata": {
    "slideshow": {
     "slide_type": "subslide"
    }
   },
   "source": [
    "### Combination\n",
    "\n",
    "+ **Repetition is NOT allowed**\n",
    "\n",
    "    + Example: Choose 3 from 16 balls\n",
    "    \n",
    "    <img src=\"img\\billiard.png\" width=200>\n",
    "    \n",
    "    + Like in permutation case, but we need to divide by k! (because the order does not matter)\n",
    "        \n",
    "    + The formula:\n",
    "$$nCk = C(n,k) = \\binom{n}{k} = \\frac{n!}{(n-k)!k!}$$\n",
    "\n",
    "---\n",
    "\n",
    "+ **Repetition is allowed**\n",
    "\n",
    "    + Example: Let us say there are five flavors of ice cream: **b**anana, **c**hocolate, **l**emon, **s**trawberry and **v**anilla. We can have three scoops. How many variations will there be? \n",
    "        \n",
    "        <img src=\"img\\ice_cream.png\" width=100>\n",
    "\n",
    "        - There are $n=5$ things to choose from, we choose $r=3$ of them, order does **not** matter, and we **can** repeat!\n",
    "    \n",
    "        <img src=\"img\\combination_repetition.png\" width=600>\n",
    "        \n",
    "        > <small>Source: https://www.mathsisfun.com/combinatorics/combinations-permutations.html</small>\n",
    "        \n",
    "        - So it is like we are ordering a robot to get our ice cream, but it doesn't change anything, we still get what we want.\n",
    "\n",
    "        - We can write this down as  $\\rightarrow \\bigcirc \\bigcirc \\bigcirc \\rightarrow \\rightarrow \\rightarrow$ (arrow means move, circle means scoop).\n",
    "\n",
    "        - In fact the three examples above can be written like this:\n",
    "\n",
    "            + {c, c, c} (3 scoops of chocolate): $\\rightarrow \\bigcirc \\bigcirc \\bigcirc \\rightarrow \\rightarrow \\rightarrow$\n",
    "            + {b, l, v} (one each of banana, lemon and vanilla): $\\bigcirc \\rightarrow \\rightarrow \\bigcirc \\rightarrow \\rightarrow \\bigcirc$\n",
    "            + {b, v, v} (one of banana, two of vanilla): $\\bigcirc \\rightarrow \\rightarrow \\rightarrow \\rightarrow \\bigcirc \\bigcirc$\n",
    "        - So instead of worrying about different flavors, we have a simpler question: \"how many different ways can we arrange arrows and circles?\"\n",
    "\n",
    "        - Notice that there are always 3 circles (3 scoops of ice cream) and 4 arrows (we need to move 4 times to go from the 1st to 5th container).\n",
    "\n",
    "        - So (being general here) there are r + (n−1) positions, and we want to choose r of them to have circles.\n",
    "\n",
    "        - This is like saying \"we have r + (n−1) pool balls and want to choose r of them\". In other words it is now like the pool balls question, but with slightly changed numbers.\n",
    "\n",
    "    + The formula:\n",
    "        $$\\binom{r + n - 1}{r} = \\frac{(r + n - 1)!}{(n-1)!r!}$$\n",
    "    "
   ]
  },
  {
   "cell_type": "code",
   "execution_count": null,
   "metadata": {},
   "outputs": [],
   "source": []
  },
  {
   "cell_type": "markdown",
   "metadata": {},
   "source": [
    "Latihan Soal:\n",
    "\n",
    "1. Suatu hari, Paijo menyaksikan kejadian tabrak lari. Sayangnya ia berjarak cukup jauh dari lokasi kejadian sehingga Paijo hanya melihat plat nomor pelaku sebagai BE 1x2y C. x dan y mewakili angka pada plat kendaraan pelaku yang tidak mampu Paijo ingat. Untuk x, Paijo ragu antara angka 3, 5, atau 8, sedangkan y ia sama sekali tidak ingat. Tentukan ada berapa jumlah maksimum plat nomor yang harus dicek oleh polisi?\n",
    "\n",
    "    *Jawaban*:\n",
    "\n",
    "    Ruang sampel:\n",
    "\n",
    "    $x = [3, 5, 8]$\n",
    "\n",
    "    $y = [0, 1, 2, 3, 4, 5, 6, 7, 8, 9]$\n",
    "\n",
    "    Jumlah plat nomor yang harus di cek, kombinasi $x$ dan $y$ $\\rightarrow N = [3] \\times [10] = 30$\n",
    "\n",
    "---\n",
    "\n",
    "2. HIMASAKA akan menentukan mahasiswa yang akan menjabat sebagai ketua, sekretaris dan bendahara. Terdapat 4 mahasiswa dan 3 mahasiswi yang dirasa layak menduduki posisi-posisi tersebut. Dari ketiga posisi tersebut, setidaknya 1 mahasiswi harus menduduki sekretaris atau bendahara. Berapa jumlah kombinasi pasangan yang mungkin menduduki posisi-posisi tersebut?\n",
    "\n",
    "    *Jawaban*:\n",
    "\n",
    "    Ada tiga posisi yang bisa diduduki: [Bendahara] [Sekretaris] [Ketua]\n",
    "\n",
    "    Yang dapat menempati posisi tersebut 4 mahasiswa dan 3 mahasiswi\n",
    "\n",
    "    Dua kursi, sekretaris atau bendahara, setidaknya harus diisi 1 mahasiswi, artinya 1 dari 3 mahasiswi harus ada di salah satu kursi (sekretaris atau bendahara), kemudian sisanya dapat diisi mahasiswa ataupun mahasiswi lainnya.\n",
    "\n",
    "    Jumlah kombinasi yang mungkin $N = [3] \\times [6] \\times [5] = 90$ "
   ]
  },
  {
   "cell_type": "code",
   "execution_count": null,
   "metadata": {},
   "outputs": [],
   "source": []
  },
  {
   "cell_type": "markdown",
   "metadata": {
    "slideshow": {
     "slide_type": "slide"
    }
   },
   "source": [
    "## Probability of multiple events\n",
    "---\n",
    "\n",
    "+ **Joint Probability**, $P (A \\text{ and } B) = P(A \\cap B)$, the probability of event A and event B occurring. It is the probability of the intersection of two or more events.\n",
    "\n",
    "+ **Marginal Probability**, $P (A) $, the probability of an event A occurring, it may be thought of as an unconditional probability. It is not conditioned on another event.\n",
    "\n",
    "+ **Conditional Probability**, $P(A|B)$  is the probability of event A occurring, given that event B occurs."
   ]
  },
  {
   "cell_type": "markdown",
   "metadata": {
    "slideshow": {
     "slide_type": "subslide"
    }
   },
   "source": [
    "### Conditional Probability\n",
    "---\n",
    "\n",
    "Conditional probability is the probability of some event A, given the occurrence of some other event B. Conditional probability is written $P(A\\mid B)$, and is read \"the probability of A given B\" (B is occur or true or assumed to be true). It is defined by\n",
    "\n",
    "$$P(A|B) = \\frac{P(A\\cap B)}{P(B)}$$\n",
    "\n",
    "This can also be understood as the fraction of probability B that intersects with A.\n",
    "\n",
    "<img src=\"img\\venn_bayes.png\" width=300>\n",
    "\n",
    "Example:\n",
    "- given that you drew a red card, what’s the probability that it’s a four? \n",
    "    $$P(\\text{four}|\\text{red}) = \\frac{2/52}{1/2} = \\frac{2}{26} = 1/13$$ \n",
    "    So out of the 26 red cards (given a red card), there are two fours so $2/26 = 1/13$."
   ]
  },
  {
   "cell_type": "markdown",
   "metadata": {
    "slideshow": {
     "slide_type": "subslide"
    }
   },
   "source": [
    "**Exercise**\n",
    "\n",
    "1. 60% of your friends like One Piece, and 20% like One Piece AND like Naruto. Paijo, one of your friend, likes One Piece, what is the probability he also likes Naruto?\n"
   ]
  },
  {
   "cell_type": "code",
   "execution_count": null,
   "metadata": {},
   "outputs": [],
   "source": []
  },
  {
   "cell_type": "markdown",
   "metadata": {
    "slideshow": {
     "slide_type": "slide"
    }
   },
   "source": [
    "## Bayes' Theorem\n",
    "---\n",
    "\n",
    "The conditional probability:\n",
    "$$ P(A|B) = \\frac{P(A \\cap B)}{P(B)} \\quad \\text{or} \\quad P(B|A) = \\frac{P(B \\cap A)}{P(A)} $$\n",
    "\n",
    "for the joint probability,\n",
    "$$P(A \\cap B) = P(B \\cap A) = P(B | A) \\cdot P(A)$$\n",
    "\n",
    "therefore we will have another form,\n",
    "$$P(A|B) = \\frac{P(B|A) \\cdot P(A)}{P(B)}$$\n",
    "\n",
    "this new formula for *conditional probability* is usually called **Bayes theorem'** or Bayes' rule"
   ]
  },
  {
   "cell_type": "markdown",
   "metadata": {
    "slideshow": {
     "slide_type": "subslide"
    }
   },
   "source": [
    "---\n",
    "Bayes' theorem:\n",
    "\n",
    "$$P(A|B) = \\frac{P(B|A) \\cdot P(A)}{P(B)}$$\n",
    "\n",
    "where $A$ and $B$ are events and $P(B) \\neq 0$\n",
    "\n",
    "+ $P(A|B)$ is a conditional probability, the likelihood of event $A$ occurring given that $B$ is true.\n",
    "\n",
    "+ $P(B|A)$ is a conditional probability, the likelihood of event $B$ occurring given that $A$ is true.\n",
    "\n",
    "+ $P(A)$ and $P(B)$ are probabilities of observing $A$ and $B$ respectively; they are known as the **marginal probability**.\n",
    "\n",
    "+ $A$ and $B$ must be different events"
   ]
  },
  {
   "cell_type": "markdown",
   "metadata": {
    "slideshow": {
     "slide_type": "subslide"
    }
   },
   "source": [
    "**Example**\n",
    "\n",
    "+ Suatu alat uji dapat digunakan untuk menguji apakah seseorang merupakan pengguna ganja atau tidak. Alat uji ini dapat dengan akurat menilai apakah seseorang merupakan pengguna atau tidak sebesar 99%. Sebuah survei dilakukan menggunakan alat uji ini di suatu kota, di dapati Saitama terdeteksi positif pengguna, jika diketahui di kota itu 1% penduduknya kemungkinan adalah pengguna, maka berapa persen kemungkinan Saitama benar-benar merupakan pengguna?\n"
   ]
  },
  {
   "cell_type": "markdown",
   "metadata": {
    "slideshow": {
     "slide_type": "subslide"
    }
   },
   "source": [
    "**Answer**\n",
    "\n",
    "+ Untuk menjawab ini, mari kita gunakan contoh survei saja, misalnya jumlah penduduk yang disurvei itu ada 10000 orang, berapa orang yang akan terdeteksi positif sebagai pengguna dan berapa yang terdeteksi sebagai non pengguna?\n",
    "\n",
    "+ Dari data/asumsi dikatakan bahwa 1% penduduknya kemungkinan adalah pengguna, maka dari 10000 orang berapa yang pengguna dan berapa yang tidak?\n",
    "\n",
    "    + 100 pengguna\n",
    "    + 9900 non-pengguna\n",
    "    \n",
    "+ Alat uji memiliki akurasi 99% (baik untuk deteksi positif atau negatif), maka komposisi pendeteksiannya seperti apa?"
   ]
  },
  {
   "cell_type": "markdown",
   "metadata": {
    "slideshow": {
     "slide_type": "subslide"
    }
   },
   "source": [
    "|  | Positive | Negative | Total |\n",
    "| --- | --- | --- | --- |\n",
    "| Positive detection | 99 | 99  | 198 |\n",
    "| Negative detection | 1  | 9801 | 9802 |\n",
    "| Total | 100 | 9900 | 10000 |"
   ]
  },
  {
   "cell_type": "markdown",
   "metadata": {
    "slideshow": {
     "slide_type": "fragment"
    }
   },
   "source": [
    "+ Jika dalam satu ruangan kita kumpulkan orang yang terdeteksi positif sebagai pengguna, maka akan ada 198 orang dengan komposisi 99 orang benar-benar pengguna, dan 99 orang sebetulnya bukanlah pengguna.\n",
    "\n",
    "+ Saitama ada diruangan itu karena ia terdeteksi sebagai pengguna, berapa persen kemungkian ia benar-benar pengguna?\n",
    "\n",
    "$$P(\\text{Saitama pengguna} | \\text{terdeteksi positif}) = \\frac{99}{198} = 0.5 = 50\\%$$"
   ]
  },
  {
   "cell_type": "markdown",
   "metadata": {
    "slideshow": {
     "slide_type": "fragment"
    }
   },
   "source": [
    "+ Cara lain dengan langsung menggunakan rumusnya\n",
    "\n",
    "$$P(A|B) = \\frac{P(B|A)P(A)}{P(B)}$$\n",
    "\n",
    "$$P(\\text{User} | +) = \\frac{P(+ | \\text{User}) \\cdot P(\\text{User})}{P(+)}$$\n",
    "\n",
    "$$P(\\text{User} | +) = \\frac{P(+ | \\text{User}) \\cdot P(\\text{User})}{P(+|\\text{User}) + P(+ | \\text{NonUser})}$$\n",
    "\n",
    "$$P(\\text{User} | +) = \\frac{0.99 \\cdot 0.01}{0.99 \\cdot 0.01 + 0.01 \\cdot 0.99} = 0.5$$"
   ]
  },
  {
   "cell_type": "code",
   "execution_count": null,
   "metadata": {},
   "outputs": [],
   "source": []
  },
  {
   "cell_type": "markdown",
   "metadata": {
    "slideshow": {
     "slide_type": "slide"
    }
   },
   "source": [
    "### Bayesian update\n",
    "\n",
    "+ In our example, we actually did what is so called **Bayesian update**. Without *the test*, we can only say that Saitama has a chance of 1% as a User, but after the test, we can say that Saitama has a chance of 50% as a User.\n",
    "\n",
    "$$P(\\text{Saitama is a User}) = 1\\% \\text{(before the test)} \\rightarrow 50\\% \\text{(after the test)}$$\n",
    "\n",
    "+ We can use this information as a new Prior if we do another test.  \n",
    "\n",
    "---\n",
    "Bayesian inference is a method of statistical inference in which Bayes' theorem is used to update the probability for a hypothesis as more evidence or information becomes available."
   ]
  },
  {
   "cell_type": "markdown",
   "metadata": {
    "slideshow": {
     "slide_type": "subslide"
    }
   },
   "source": [
    "**Exercise**\n",
    "+ If Saitama tested again using other independent method with the same accuracy, and the result is positive, what is the probability that Saitama is a user? and also calculate if the test result is negative!"
   ]
  },
  {
   "cell_type": "code",
   "execution_count": null,
   "metadata": {},
   "outputs": [],
   "source": []
  },
  {
   "cell_type": "markdown",
   "metadata": {
    "slideshow": {
     "slide_type": "slide"
    }
   },
   "source": [
    "## Introducing Type of Error\n",
    "\n",
    "In statistical (hypothesis) testing there are 2 types of error:\n",
    "+ Type I Error or false positive: we say that it is positive detection but it is actually not.\n",
    "+ Type II Error or false negative: we say that it is negative detection but it is actually true.\n",
    "\n",
    "from the previous example, which one is type I and II error?\n",
    "\n",
    "|  | Positive | Negative |\n",
    "| --- | --- | --- | \n",
    "| Positive detection | 99 | 99  |\n",
    "| Negative detection | 1  | 9801 |"
   ]
  },
  {
   "cell_type": "markdown",
   "metadata": {
    "slideshow": {
     "slide_type": "subslide"
    }
   },
   "source": [
    "+ We want to minimize the error (false positive or false negative)\n",
    "\n",
    "<img src=\"img/type-1-2-errors.png\" width=500>"
   ]
  },
  {
   "cell_type": "markdown",
   "metadata": {
    "slideshow": {
     "slide_type": "subslide"
    }
   },
   "source": [
    "+ The statistical **method** or the **data** itself has *limitation*, sometimes we have to choose what we want to minimize; false positive or false negative.\n",
    "<img src=\"img/errortype.png\" width=400>"
   ]
  },
  {
   "cell_type": "code",
   "execution_count": null,
   "metadata": {},
   "outputs": [],
   "source": []
  },
  {
   "cell_type": "markdown",
   "metadata": {},
   "source": [
    "## Expected Values\n",
    "\n",
    "+ wiki: the expected value (also called expectation, expectancy, mathematical expectation, *mean*, *average*, or first moment) is a generalization of the weighted average. Informally, the expected value is the arithmetic mean of a large number of independently selected outcomes of a random variable.\n",
    "\n",
    "+ The *expected value* of a random variable *X* is often denoted by $E(X)$, $E[X]$, or $EX$, with $E$ also often stylized as $\\mathbb{E}$. Another popular notation is $\\mu_X$, whereas $⟨X⟩$, $⟨X⟩_{av}$, and $\\overline{X}$ are commonly used in **physics**\n",
    "\n",
    "+ Finite outcomes:\n",
    "\n",
    "$$E(X) = p_1 x_1 + p_2 x_2 + p_3 x_3 \\ldots + p_k x_k$$\n",
    "\n",
    "+ Infinite:\n",
    "\n",
    "$$E(X) = \\sum_{i=1}^{\\infty} p_i x_i$$\n",
    "\n",
    "+ Since the probabilities must satisfy $p_1 + p_2 + \\ldots + p_k = 1$, it is natural to interpret $E[X]$ as a weighted average of the $x_i$ values, with weights given by their probabilities $p_i$.\n",
    "\n",
    "+ In the special case that all possible outcomes are *equiprobable* (that is, $p_1 = \\ldots = p_k$), the weighted average is given by the *standard average*. In the general case, the expected value takes into account the fact that some outcomes are more likely than others.\n",
    "\n",
    "+ Example:\n",
    "    1. Berapa nilai ekspektasi angka yang keluar dari sekali melempar dadu?\n",
    "    \n",
    "    Jawaban:\n",
    "    \n",
    "    $E(\\text{angka yang ditunjukkan dadu sekali pelemparan}) = \\frac{1}{6} \\cdot 1 + \\frac{1}{6} \\cdot 2 + \\frac{1}{6} \\cdot 3 + \\frac{1}{6} \\cdot 4 + \\frac{1}{6} \\cdot 5 + \\frac{1}{6} \\cdot 6 = 3.5$\n",
    "    ---\n",
    "    2. Paijo merasa banyak mahasiswa ITERA yang suka nonton Kdrama. Ia kemudian mengajak Tukimin taruhan [*jangan ditiru*], satu mahasiswa yang masuk gerbang ITERA berikutnya (acak/tidak kenal) akan ditanya apakah dia suka nonton Kdrama. Jika jawabannya iya, Paijo minta uang Rp 5000 dari Tukimin, jika tidak, Tukimin memperoleh Rp 5000 dari Paijo. Andaikan diketahui 60% mahasiswa ITERA suka nonton Kdrama, dan 40% tidak suka, berapa ekspektasi uang yang diperoleh Paijo?\n",
    "    \n",
    "    Jawaban: \n",
    "    \n",
    "    $E(\\text{uang yang diperoleh Paijo dari taruhan}) = 0.6 \\cdot 5000 + 0.4 \\cdot -5000 = 1000$\n",
    "\n",
    "    > Andaikan eksperimen dilakukan terus menerus maka Paijo akan memperoleh **rata-rata** Rp 1000 **per eksperimen**."
   ]
  },
  {
   "cell_type": "code",
   "execution_count": null,
   "metadata": {},
   "outputs": [],
   "source": []
  }
 ],
 "metadata": {
  "kernelspec": {
   "display_name": "Python 3",
   "language": "python",
   "name": "python3"
  },
  "language_info": {
   "codemirror_mode": {
    "name": "ipython",
    "version": 3
   },
   "file_extension": ".py",
   "mimetype": "text/x-python",
   "name": "python",
   "nbconvert_exporter": "python",
   "pygments_lexer": "ipython3",
   "version": "3.8.8"
  }
 },
 "nbformat": 4,
 "nbformat_minor": 4
}
