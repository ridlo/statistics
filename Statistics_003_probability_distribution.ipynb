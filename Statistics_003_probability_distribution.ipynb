{
 "cells": [
  {
   "cell_type": "markdown",
   "metadata": {
    "slideshow": {
     "slide_type": "slide"
    }
   },
   "source": [
    "#### <code>Statistics</code>\n",
    "\n",
    "\n",
    "\n",
    "# Probability Distribution  \n",
    "---\n",
    "\n",
    "\n",
    "\n",
    "<small>Ridlo W. Wibowo | last update: 2023-02-28</small>"
   ]
  },
  {
   "cell_type": "code",
   "execution_count": null,
   "metadata": {},
   "outputs": [],
   "source": []
  },
  {
   "cell_type": "markdown",
   "metadata": {
    "slideshow": {
     "slide_type": "slide"
    }
   },
   "source": [
    "## Random variables\n",
    "---\n",
    "\n",
    "<code>*Remember*</code>: *type of data/variables*\n",
    "\n",
    "+ Discrete: can take only limited number of values (i.e. integer value)\n",
    "    \n",
    "    Example: \n",
    "    + flipping a coin {H, T}\n",
    "    + rolling a dice {1, 2, 3, 4, 5, 6}\n",
    "    \n",
    "    \n",
    "+ Continuous: can take any value (i.e. real number)\n",
    "    \n",
    "    Example:\n",
    "    + height of human\n",
    "    + mass of rocks \n",
    "    \n",
    "---    \n",
    "+ Data distribution $\\rightarrow$ Probability distribution\n",
    "    - Example:\n",
    "\n",
    "    |  Height   | Number of student (freq) | Probability |\n",
    "    | --- | --- | --- |\n",
    "    | 150-155 | 28 | 0.112 |\n",
    "    | 155-160 | 43 | 0.172 |\n",
    "    | 160-165 | 57 | 0.228 |\n",
    "    | 165-170 | 62 | 0.248 |\n",
    "    | 170-175 | 48 | 0.192 |\n",
    "    | 175-180 | 12 | 0.048 |\n",
    "    | **Total** | 250 | 1.0 |\n",
    "    \n",
    "+ Frequency plot / histogram "
   ]
  },
  {
   "cell_type": "code",
   "execution_count": null,
   "metadata": {},
   "outputs": [],
   "source": []
  },
  {
   "cell_type": "markdown",
   "metadata": {
    "slideshow": {
     "slide_type": "subslide"
    }
   },
   "source": [
    "## Probability Distribution\n",
    "---\n",
    "\n",
    "---of random variables\n",
    "\n",
    "depend on the data/variable types:\n",
    "- discrete (probability mass function; pmf)\n",
    "- continuous (probability density function; pdf)\n",
    "\n",
    "\n",
    "### Probability Mass Function (pmf)\n",
    "\n",
    "is a function that gives the probability that a discrete random variable ($X$) is exactly equal to some value.\n",
    "\n",
    "+ $x$-axis is random variable, $y$-axis is the probability Pr($x$)\n",
    "\n",
    "+ Example:  in a box there are 10 balls of 1, 3, and 7: {1, 1, 3, 3, 3, 3, 3, 7, 7, 7}, what is the **pmf** when we randomly select one ball?\n",
    "\n",
    "<img src=\"https://raw.githubusercontent.com/ridlo/statistics/main/img/pmf.png\" width=300/>\n",
    "\n",
    "\n",
    "### Probability Density Function (pdf)\n",
    "\n",
    "A random variable $X$ has probability density function $f_X$\n",
    "$$\\text{Pr}(a \\geq X \\geq b) = \\int_a^b f_X (x) dx$$\n",
    "\n",
    "For normalized pdf:\n",
    "$$\\int_{-\\infty}^{+\\infty} f(x) dx = 1$$"
   ]
  },
  {
   "cell_type": "markdown",
   "metadata": {
    "slideshow": {
     "slide_type": "subslide"
    }
   },
   "source": [
    "### Cumulative Distribution Function (**cdf**)\n",
    "\n",
    "+ for discrete random variable:\n",
    "\n",
    "    $$F_X(x) = \\text{P}(X \\leq x)$$\n",
    "    \n",
    "\n",
    "+ for continuous random variable:\n",
    "\n",
    "    $$F_X(x) = \\int_{-\\infty}^{x} f_X(x) dx$$\n",
    "\n",
    "    $$f_X(x) = \\frac{d}{dx} F_X(x)$$\n",
    "    \n",
    "    \n",
    "+ we can use histogram to plot the distribution or use the dot/lines (ogive or ogive graph; *oh-jive*).  It's very similar to a histogram, only instead of rectangles, an ogive has a single point marking where the top right of the rectangle would be\n",
    "\n",
    "<img src=\"https://raw.githubusercontent.com/ridlo/statistics/main/img/cdf.PNG\" width=500>\n"
   ]
  },
  {
   "cell_type": "markdown",
   "metadata": {},
   "source": [
    "### Inverse-CDF (ppf)\n",
    "\n",
    "+ alias: **quantile** function / percent point function (**ppf**)\n",
    "\n",
    "+ the $x$-axis is cumulative distribution function $F_X(x) = P(X \\leq x)$ from 0 to 1 while the $y$-axis is the random variable ($X$)\n",
    "\n",
    "    $$F^{-1}(p), p \\in (0, 1)$$\n",
    "    "
   ]
  },
  {
   "cell_type": "code",
   "execution_count": null,
   "metadata": {},
   "outputs": [],
   "source": []
  },
  {
   "cell_type": "markdown",
   "metadata": {},
   "source": [
    "<code>*Remember*</code>: expected values and moments\n",
    "\n",
    "### Expected Values and Moments\n",
    "\n",
    "+ *for continuous variables*, the expected values is\n",
    "$$\\mu = E(X) = \\int_{-\\infty}^{\\infty} x f(x) dx$$\n",
    "\n",
    "+ expected value related to the *moments*, i.e. n<sup>th</sup> raw moment is defined as:\n",
    "\n",
    "$$\\mu'_{n} = \\int_{-\\infty}^{\\infty} x^n f(x) dx$$\n",
    "\n",
    "+ The n<sup>th</sup> moment of a real-valued continuous function $f(x)$ of a real variable about a value $c$ is the integral\n",
    "$$\\mu _{n}=\\int_{-\\infty }^{\\infty }(x-c)^{n}f(x)dx$$\n",
    "\n",
    "+ We usually call: \n",
    "    + *central moment* when we choose $c$ equal to the mean $\\mu$, \n",
    "    + *raw moment* when $c = 0$, \n",
    "    + *standardised moment*, for the n<sup>th</sup> central moment divided by $\\sigma^n$, where $\\sigma^2$ is $\\text{Var}(X)$ or 2nd central moment."
   ]
  },
  {
   "cell_type": "markdown",
   "metadata": {
    "slideshow": {
     "slide_type": "subslide"
    }
   },
   "source": [
    "<code>*Remember*</code>: descriptive statistics\n",
    "\n",
    "### Descriptive statistics: how we describe the data distribution $\\rightarrow$ *probability distribution*\n",
    "\n",
    "+ *Central tendency*: Mode, Median, and Mean\n",
    "\n",
    "<img src=\"https://raw.githubusercontent.com/ridlo/statistics/main/img/visualisation.png\" width=700 />\n",
    "\n",
    "+ **Note**: instead of using the *mean*, we often use median (quantile 0.5, percentile 50) to describe the \"center\" of random variables, esp. for data/variable with many outliers.\n",
    "\n",
    "\n",
    "+ **Moment** in probability distribution (alternative: *cumulants*)\n",
    "    + 0th = Total probability, i.e. 1\n",
    "    \n",
    "    + 1th = Expected value (mean), $\\mu = E[X]$, analogous to the *center of mass* in physics\n",
    "    \n",
    "    + 2nd central = Variance, $\\sigma^2 = \\text{Var}(X) = E[(X-\\mu)^2]$, analogous to the *moment of inertia* in physics\n",
    "    \n",
    "    $$\\text{Var}(X) = E[(X-\\mu)^2]$$ \n",
    "    $$\\text{Var}(X) = E[(X - E[X])^2]$$\n",
    "    $$\\text{Var}(X) = E[X^2 - 2XE[X] + E[X]^2]$$\n",
    "    $$\\text{Var}(X) = E[X^2] - 2E[X]E[X] + E[X]^2$$\n",
    "    $$\\text{Var}(X) = E[X^2] - E[X]^2 = E[X^2] - \\mu^2$$\n",
    "    \n",
    "    + 3th standardized = Skewness, \n",
    "    $$\\text{Skew}(X) = \\tilde{\\mu_3} = \\frac{\\mu_3}{\\sigma^3} = E\\left[\\left( \\frac{X - \\mu}{\\sigma} \\right)^3\\right] = \\frac{E[(X-\\mu)^3]}{(E[(X - \\mu)^2])^{3/2}} = \\frac{E[X^3] - 3\\mu\\sigma^2 - \\mu^3}{\\sigma^3}$$\n",
    "    \n",
    "    + 4th standardized = Kurtosis, \n",
    "    $$\\text{Kurt}(X) = \\tilde{\\mu_4} = \\frac{\\mu_4}{\\sigma^4} = E\\left[\\left( \\frac{X - \\mu}{\\sigma} \\right)^4\\right] = \\frac{E[(X-\\mu)^4]}{(E[(X - \\mu)^2])^{4/2}} = \\frac{E[X^4] - 4\\mu E[X^3] + 6\\mu^2E[X^2] - 3\\mu^4}{\\sigma^{4}}$$\n",
    "\n",
    "    \n",
    "<img src=\"https://raw.githubusercontent.com/ridlo/statistics/main/img/Negative_and_positive_skew_diagrams.png\" width=500/>\n",
    "\n",
    "<img src=\"https://raw.githubusercontent.com/ridlo/statistics/main/img/Kurtosis_Standard_symmetric.png\" width=400/>\n",
    "    \n",
    "    \n",
    "+ Statistics symbols: https://mathvault.ca/hub/higher-math/math-symbols/probability-statistics-symbols/"
   ]
  },
  {
   "cell_type": "code",
   "execution_count": null,
   "metadata": {},
   "outputs": [],
   "source": []
  },
  {
   "cell_type": "markdown",
   "metadata": {},
   "source": [
    "**Example**:\n",
    "1. Fungsi densitas peluang (probability density function) dari sebuah variabel kontinu acak X yang memiliki nilai antara 0 hingga 5 adalah $f(X=x) = \\frac{1}{4} - bx$  dengan $b$ adalah sebuah konstanta.\n",
    "    + Tentukan nilai b\n",
    "    + Hitung probabilitas nilai variabel $x \\geq 3$\n",
    "    + Bagaimana persamaan CDF dari variabel acak ini?\n",
    "    + Berapa nilai ekspektasi (*mean*) dari variabel acak ini?"
   ]
  },
  {
   "cell_type": "markdown",
   "metadata": {},
   "source": [
    "**Answer**\n",
    "\n",
    "1.  Karena total/integral dari fungsi densitas (pdf) harus $\\equiv 1$\n",
    "\n",
    "    $$\\int_{-\\infty}^{\\infty} f_X(x) dx \\equiv 1 $$\n",
    "    \n",
    "    dan karena variabel $X$ memiliki rentang nilai dari 0 hingga 5 saja, maka\n",
    "\n",
    "    $$\\int_{0}^{5} f_X(x) dx = 1 $$\n",
    "\n",
    "    $$\\int_{0}^{5} \\left(\\frac{1}{4} - bx \\right) dx = 1 $$\n",
    "\n",
    "    $$\\left[ \\frac{1}{4} x - \\frac{1}{2} b x^2 \\right]_{0}^{5} = 1$$\n",
    "\n",
    "    $$\\left[ \\frac{5}{4} - \\frac{25}{2} b \\right] - \\left[ 0 - 0 \\right] = 1$$\n",
    "\n",
    "    $$\\frac{5}{4} - \\frac{25}{2} b = 1$$\n",
    "    \n",
    "    $$\\frac{25}{2} b = \\frac{5}{4} - 1$$\n",
    "    \n",
    "    $$\\frac{25}{2} b = \\frac{1}{4}$$\n",
    "\n",
    "    $$b = \\frac{2}{100} = 0.02$$\n",
    "\n",
    "    Probabilitas $P(x \\geq 3) = P(3 \\leq x \\leq 5)$ dapat dicari dengan mengintegralkan pdf dengan batas tersebut\n",
    "\n",
    "    $$P(3 \\leq x \\leq 5) = \\int_{3}^{5} \\left(0.25 - 0.02 x \\right) dx $$\n",
    "    \n",
    "    $$ = \\left[ 0.25 x - 0.01 x^2 \\right]_{3}^{5} $$\n",
    "    \n",
    "    $$ = \\left[ 0.25 \\cdot 5 - 0.01 \\cdot 5^2 \\right] - \\left[ 0.25 \\cdot 3 - 0.01 \\cdot 3^2\\right] $$\n",
    "    \n",
    "    $$ = 0.34$$\n",
    "    \n",
    "    CDF dapat dicari dengan\n",
    "    \n",
    "    $$F_X(x) = \\int_{-\\infty}^{x} f_X(x) dx = \\int_{0}^{x} \\left(0.25 - 0.02x \\right) dx$$\n",
    "    \n",
    "    $$F_X(x) = 0.25x - 0.01x^2$$\n",
    "    \n",
    "    Expected Value\n",
    "    \n",
    "    $$E(x) = \\int_{-\\infty}^{\\infty} x f(x) dx$$\n",
    "    $$E(x) = \\int_{0}^{5} x \\left(0.25 - 0.02x \\right) dx$$\n",
    "    $$E(x) = \\int_{0}^{5} (0.25x - 0.02x^2) dx$$\n",
    "    $$E(x) = \\left[\\frac{0.25}{2}x^2 - \\frac{0.02}{3} x^3  \\right]_0^5$$\n",
    "    $$E(x) = 2.2916666667$$"
   ]
  },
  {
   "cell_type": "code",
   "execution_count": 1,
   "metadata": {},
   "outputs": [
    {
     "data": {
      "text/plain": [
       "<matplotlib.legend.Legend at 0x1b951e9f700>"
      ]
     },
     "execution_count": 1,
     "metadata": {},
     "output_type": "execute_result"
    },
    {
     "data": {
      "image/png": "[encoded data removed]",
      "text/plain": [
       "<Figure size 432x288 with 1 Axes>"
      ]
     },
     "metadata": {
      "needs_background": "light"
     },
     "output_type": "display_data"
    }
   ],
   "source": [
    "import numpy as np\n",
    "import matplotlib.pyplot as plt\n",
    "\n",
    "x = np.arange(0, 5, 0.01)\n",
    "y = 0.25 - 0.02*x\n",
    "\n",
    "plt.plot(x, y, 'b-', label=r\"f(x) = $0.25 - 0.02x$\")\n",
    "\n",
    "plt.fill_between(x, y, 0, where = (x >= 3) & (x <= 5), alpha=0.5, color='g', label=\"$P(x\\geq 3)$\")\n",
    "plt.axvline(x=2.291666667, linestyle='--', label=\"$\\mu$\")\n",
    "plt.xlabel(\"$x$\")\n",
    "plt.ylabel(\"$pdf$\")\n",
    "\n",
    "plt.xlim([0, 5])\n",
    "plt.ylim([0, 0.4])\n",
    "plt.legend()"
   ]
  },
  {
   "cell_type": "code",
   "execution_count": null,
   "metadata": {},
   "outputs": [],
   "source": []
  },
  {
   "cell_type": "markdown",
   "metadata": {
    "slideshow": {
     "slide_type": "slide"
    }
   },
   "source": [
    "### Common Probability Distributions\n",
    "---\n",
    "\n",
    "+  Every random variable (quantity) in *nature*, has **a certain shape of probability distribution**, it is usually depend on the physical process and interaction that occur when producing that random variable.\n",
    "    \n",
    "    Example: \n",
    "    + Flipping a coin\n",
    "    + Height of students\n",
    "    + Mass/size distribution of the broken glass\n",
    "    + Speed distribution of atoms/molecules inside a container\n",
    "    + ...\n",
    "\n",
    "\n",
    "+ Many probability distributions that are *important* in theory or applications (frequently seen in nature) have been given **specific names**. List of probability distributions: https://en.wikipedia.org/wiki/List_of_probability_distributions\n",
    "    + Discrete\n",
    "        + Uniform/Rectangle\n",
    "        + Binomial\n",
    "        + Poisson\n",
    "        + Boltzmann\n",
    "        + ...\n",
    "\n",
    "    + Continuous\n",
    "        + Uniform/Rectangle\n",
    "        + Beta\n",
    "        + Normal/Gaussian\n",
    "        + Cauchy\n",
    "        + Exponential\n",
    "        + ...\n"
   ]
  },
  {
   "cell_type": "code",
   "execution_count": null,
   "metadata": {},
   "outputs": [],
   "source": []
  },
  {
   "cell_type": "markdown",
   "metadata": {},
   "source": [
    "## Discrete Uniform Distribution\n",
    "\n",
    "wiki: A symmetric probability distribution wherein a finite number of values are equally likely to be observed; every one of $n$ values has equal probability $\\frac{1}{n}$. Another way of saying \"discrete uniform distribution\" would be \"a known, finite number of outcomes equally likely to happen\".\n",
    "\n",
    "A simple example of the discrete uniform distribution is throwing a fair dice. The possible values are 1, 2, 3, 4, 5, 6, and each time the die is thrown the probability of a given score is 1/6.\n",
    "\n",
    "+ pmf:\n",
    "<img src=\"https://raw.githubusercontent.com/ridlo/statistics/main/img/Uniform_discrete_pmf.png\" width=300 />\n",
    "\n",
    "+ cdf:\n",
    "<img src=\"https://raw.githubusercontent.com/ridlo/statistics/main/img/Uniform_discrete_cdf.png\" width=300 />\n",
    "\n",
    "+ For variable X from $a$ to $b$, maka expected value: $E(X) = \\frac{a + b}{2}$\n",
    "\n",
    "+ Variance: $\\text{Var}(X) = \\frac{(b-a)^2}{12}$"
   ]
  },
  {
   "cell_type": "code",
   "execution_count": null,
   "metadata": {},
   "outputs": [],
   "source": []
  },
  {
   "cell_type": "markdown",
   "metadata": {
    "slideshow": {
     "slide_type": "slide"
    }
   },
   "source": [
    "## Binomial Distribution\n",
    "---\n",
    "\n",
    "It is the answer to these kind of questions:\n",
    "+ What is the probability to get 6 H when you flip a coin 6 times?\n",
    "+ What is the probability to get 4 H and 2 T, when you flip a coin 6 times?\n",
    "+ From the survey of Otakus, 35% of them likes Boruto. If you ask 5 of your Otakus friends, what is the probability that exactly 4 of them likes Boruto? \n",
    "+ From the survey of Otakus, 35% of them likes Boruto. If you ask 5 of your Otakus friends, what is the probability that none of them likes Boruto? \n",
    "\n",
    "An experiment is a binomial experiment if:\n",
    "+ It is repeated a fixed number of times ($n$ times).\n",
    "+ The trials are independent.\n",
    "+ Trials have two mutually exclusive outcomes, either success or failure.\n",
    "+ The probability of success ($p$) is the same for all trials.\n",
    "\n",
    "If $n=1$ its is called **Bernoulli trial**/distribution. A Bernoulli trial is a random experiment with exactly two possible outcomes, \"success\" and \"failure\", in which the probability of success is the same every time the experiment is conducted."
   ]
  },
  {
   "cell_type": "markdown",
   "metadata": {
    "slideshow": {
     "slide_type": "subslide"
    }
   },
   "source": [
    "The probability of getting exactly $k$ successes in $n$ independent *Bernoulli trials* is given by the probability mass function:\n",
    "\n",
    "$$P(x=k) = \\binom{n}{k}p^k q^{n-k}$$\n",
    "where,\n",
    "+ probability of success, $p$\n",
    "+ probability of failure, $q = 1-p$\n",
    "+ number of success, $k$\n",
    "+ number of trial, $n$\n",
    "\n",
    "Expected value and variance of binomial distribution:\n",
    "$$\\text{E}(X) = np$$\n",
    "$$\\text{Var}(X) = np(1-p) = npq$$\n"
   ]
  },
  {
   "cell_type": "markdown",
   "metadata": {
    "slideshow": {
     "slide_type": "subslide"
    }
   },
   "source": [
    "**Example**\n",
    "\n",
    "+ Survei penyuka bubur ayam mengatakan bahwa 60% orang suka mengaduknya sebelum makan. Berapa probabilitas ketika saya bertanya kepada 10 orang mendapati 1 orang suka mengaduk dan 9 yang lain tidak suka mengaduk?\n",
    "\n",
    "    <img src=\"https://raw.githubusercontent.com/ridlo/statistics/main/img/bubur.PNG\" width=350/>"
   ]
  },
  {
   "cell_type": "code",
   "execution_count": 2,
   "metadata": {
    "slideshow": {
     "slide_type": "subslide"
    }
   },
   "outputs": [
    {
     "name": "stdout",
     "output_type": "stream",
     "text": [
      "n : 10\n",
      "p:  0.6\n",
      "k:  [ 0  1  2  3  4  5  6  7  8  9 10]\n",
      "Mean: 6.0\n",
      "Var: 2.4000000000000004\n",
      "Skew: -0.12909944487358052\n",
      "Kurt: -0.1833333333333333\n",
      "Peluang mendapati 0 orang suka ngaduk bubur ayam dari 10 orang yang ditanya: 0.00010485760000000014\n",
      "Peluang mendapati 1 orang suka ngaduk bubur ayam dari 10 orang yang ditanya: 0.0015728640000000028\n",
      "Peluang mendapati 2 orang suka ngaduk bubur ayam dari 10 orang yang ditanya: 0.010616832\n",
      "Peluang mendapati 3 orang suka ngaduk bubur ayam dari 10 orang yang ditanya: 0.04246732800000004\n",
      "Peluang mendapati 4 orang suka ngaduk bubur ayam dari 10 orang yang ditanya: 0.11147673600000013\n",
      "Peluang mendapati 5 orang suka ngaduk bubur ayam dari 10 orang yang ditanya: 0.20065812480000034\n",
      "Peluang mendapati 6 orang suka ngaduk bubur ayam dari 10 orang yang ditanya: 0.2508226560000002\n",
      "Peluang mendapati 7 orang suka ngaduk bubur ayam dari 10 orang yang ditanya: 0.21499084800000012\n",
      "Peluang mendapati 8 orang suka ngaduk bubur ayam dari 10 orang yang ditanya: 0.12093235199999994\n",
      "Peluang mendapati 9 orang suka ngaduk bubur ayam dari 10 orang yang ditanya: 0.04031078400000004\n",
      "Peluang mendapati 10 orang suka ngaduk bubur ayam dari 10 orang yang ditanya: 0.0060466176\n"
     ]
    },
    {
     "data": {
      "text/plain": [
       "<matplotlib.legend.Legend at 0x1b955546ee0>"
      ]
     },
     "execution_count": 2,
     "metadata": {},
     "output_type": "execute_result"
    },
    {
     "data": {
      "image/png": "[encoded data removed]",
      "text/plain": [
       "<Figure size 432x288 with 1 Axes>"
      ]
     },
     "metadata": {
      "needs_background": "light"
     },
     "output_type": "display_data"
    }
   ],
   "source": [
    "import numpy as np\n",
    "from scipy.stats import binom\n",
    "import matplotlib.pyplot as plt\n",
    "\n",
    "n, p = 10, 0.6\n",
    "x = np.arange(0,11)\n",
    "print(\"n :\", n)\n",
    "print(\"p: \", p)\n",
    "print(\"k: \", x)\n",
    "mean, var, skew, kurt = binom.stats(n, p, moments='mvsk')\n",
    "print(f\"Mean: {mean}\\nVar: {var}\\nSkew: {skew}\\nKurt: {kurt}\")\n",
    "\n",
    "for xi in x:\n",
    "    print(f\"Peluang mendapati {xi} orang suka ngaduk bubur ayam dari 10 orang yang ditanya: {binom.pmf(xi, n, p)}\")\n",
    "\n",
    "fig, ax = plt.subplots(1, 1)\n",
    "ax.plot(x, binom.pmf(x, n, p), 'bo', ms=8, label='binomial pmf (n='+str(n)+', p='+str(p)+')')\n",
    "ax.vlines(x, 0, binom.pmf(x, n, p), colors='b', lw=5, alpha=0.5)\n",
    "plt.legend()"
   ]
  },
  {
   "cell_type": "code",
   "execution_count": 3,
   "metadata": {
    "slideshow": {
     "slide_type": "fragment"
    }
   },
   "outputs": [
    {
     "data": {
      "text/plain": [
       "<matplotlib.legend.Legend at 0x1b9555c2580>"
      ]
     },
     "execution_count": 3,
     "metadata": {},
     "output_type": "execute_result"
    },
    {
     "data": {
      "image/png": "[encoded data removed]",
      "text/plain": [
       "<Figure size 432x288 with 1 Axes>"
      ]
     },
     "metadata": {
      "needs_background": "light"
     },
     "output_type": "display_data"
    }
   ],
   "source": [
    "fig, ax = plt.subplots(1, 1)\n",
    "ax.plot(x, binom.pmf(x, n, p), 'bo', ms=8, label=f'binomial pmf (n={n}, p={p})')\n",
    "ax.vlines(x, 0, binom.pmf(x, n, p), colors='b', lw=3, alpha=1.0)\n",
    "\n",
    "ax.plot(x, binom.cdf(x, n, p), 'ro', ms=8, label=f'binomial cdf (n={n}, p={p})')\n",
    "ax.vlines(x, 0, binom.cdf(x, n, p), colors='r', lw=6, alpha=0.3)\n",
    "plt.legend()"
   ]
  },
  {
   "cell_type": "code",
   "execution_count": null,
   "metadata": {},
   "outputs": [],
   "source": []
  },
  {
   "cell_type": "markdown",
   "metadata": {
    "slideshow": {
     "slide_type": "subslide"
    }
   },
   "source": [
    "### Binomial Test\n",
    "---\n",
    "\n",
    "is an *exact* **test** of the statistical significance of deviations from a theoretically expected distribution of observations into *two categories*.\n",
    "\n",
    "Example:\n",
    "+ In a particular game, the dice is rolled 300 times, and 6 comes up 100 times, is the dice fair?\n",
    "+ We did a survey on how people usually eat a chicken porridge. From the 10 people we ask, 6 say that they like to mix the topping, and 4 of them don't like it, can we say that the majority of people like to mix the topping? or could it be that people, in general, don't have preference, and this result are just due to random chance and a small sample size? \n",
    "+ ...\n",
    "\n",
    "We can compute the $p$-value (what is that?) ... \n",
    "\n",
    "learn more about **these statistical tests** in *inferential statistics* (future topics)."
   ]
  },
  {
   "cell_type": "code",
   "execution_count": null,
   "metadata": {},
   "outputs": [],
   "source": []
  },
  {
   "cell_type": "markdown",
   "metadata": {
    "slideshow": {
     "slide_type": "slide"
    }
   },
   "source": [
    "## Poisson Distribution\n",
    "---\n",
    "\n",
    "+ The Poisson probability distribution is used when computing the probability of **a certain number of successes within a specified interval** of time or space (length or area or volume). \n",
    "\n",
    "\n",
    "+ An experiment follows the Poisson process if:\n",
    "    + The probability of two successes in a small enough interval is 0%.\n",
    "    + The probability of a success is the same for any two intervals which share the same length.\n",
    "    + Successes are independent of successes in other intervals.\n",
    "\n",
    "\n",
    "+ Example:\n",
    "    + The number of car accidents in a day.\n",
    "    + The number of grass in a square metre plot of land.\n",
    "    + The number of photon arrived from a star in a second.\n",
    "\n",
    "\n",
    "+ It can be derived from  binomial distribution when $\\lim_{n \\rightarrow \\infty}$; with $\\lambda = np$ or $ p =\\frac{\\lambda}{n}$"
   ]
  },
  {
   "cell_type": "markdown",
   "metadata": {
    "slideshow": {
     "slide_type": "subslide"
    }
   },
   "source": [
    "---\n",
    "\n",
    "+ Probability of an event occurs $k$ times in an interval of time or space ($t$) given a time rate for the number of events $r$ to happen.\n",
    "\n",
    "    $$f(k; \\lambda) = P(x=k; \\lambda) = \\frac{(r t)^{k}}{k!} e^{-r t} = \\frac{\\lambda^k}{k!} e^{-\\lambda}$$\n",
    "    \n",
    "    $$k = 0, 1, 2, \\ldots$$\n",
    "    \n",
    "    \n",
    "+ $\\lambda= rt$ or $\\mu$ is the average number of event occurs in a specified time interval/region $t$\n",
    "\n",
    "\n",
    "+ Expected value and the variance of Poisson distribution is $\\lambda$\n",
    "\n",
    "    $$\\text{E}(X) = \\text{Var}(X) = \\lambda$$"
   ]
  },
  {
   "cell_type": "code",
   "execution_count": null,
   "metadata": {},
   "outputs": [],
   "source": []
  },
  {
   "cell_type": "markdown",
   "metadata": {},
   "source": [
    "---\n",
    "### Deriving the Poisson Distribution from the Binomial Distribution\n",
    "\n",
    "The binomial distribution works when we have a fixed number of events $n$, each with a constant probability of success $p$. Imagine we don't know the number of trials that will happen. Instead, we only know the average number of successes per time period. So we know the rate of successes per day, but not the number of trials $n$ or the probability of success $p$ that led to that rate.\n",
    "\n",
    "Define a number\n",
    "\n",
    "$$\\lambda = np$$\n",
    "\n",
    "Let this be the rate of successes per day. It's equal to $np$. That's the number of trials $n$ — however many there are — times the chance of success $p$ for each of those trials. Think of it like this: if the chance of success is $p$ and we run $n$ trials per day, we'll observe $np$ successes per day on average. That's our observed success rate lambda.\n",
    "\n",
    "Recall that the binomial distribution,\n",
    "\n",
    "$$\\lim_{n \\rightarrow \\infty} P(x=k)= \\lim_{n \\rightarrow \\infty} \\frac{n!}{(n-k)! k!} p^k (1-p)^{n-k}$$\n",
    "\n",
    "$$= \\lim_{n \\rightarrow \\infty} \\frac{n!}{(n-k)! k!} \\left( \\frac{\\lambda}{n} \\right)^k \\left(1- \\frac{\\lambda}{n}\\right)^{n-k}$$\n",
    "\n",
    "$$= \\left( \\frac{\\lambda^k}{k!} \\right) \\lim_{n \\rightarrow \\infty} \\frac{n!}{(n-k)!} \\left( \\frac{1}{n} \\right)^k \\left(1- \\frac{\\lambda}{n}\\right)^{n-k}$$\n",
    "\n",
    "\n",
    "(1) The first part of the limit, \n",
    "\n",
    "$$\\lim_{n \\rightarrow \\infty} \\frac{n!}{(n-k)!} \\left( \\frac{1}{n} \\right)^k = \\lim_{n \\rightarrow \\infty} \\frac{(n)(n-1)(n-2) \\ldots (n-k)(n-k-1) \\ldots (1)}{(n-k)(n-k-1) \\ldots (1)}\\left( \\frac{1}{n} \\right)^k$$\n",
    "\n",
    "$$=\\lim_{n \\rightarrow \\infty} \\frac{(n)(n-1)(n-2) \\ldots (n-k+1)}{n^k} = \\frac{n^k}{n^k} = 1$$ \n",
    "\n",
    "(2) The second part of the limit,  \n",
    "\n",
    "$$\\lim_{n \\rightarrow \\infty} \\left(1 - \\frac{\\lambda}{n}\\right)^{n-k} = \\lim_{n \\rightarrow \\infty} \\left(1 - \\frac{\\lambda}{n}\\right)^{n} \\left(1 - \\frac{\\lambda}{n}\\right)^{-k}$$ \n",
    "\n",
    "if we define, $x = -\\frac{n}{\\lambda}$\n",
    "\n",
    "$$\\lim_{n \\rightarrow \\infty} \\left(1 + \\frac{1}{x}\\right)^{-\\lambda} \\cdot \\lim_{n \\rightarrow \\infty} \\left(1 - \\frac{\\lambda}{n}\\right)^{-k} = e^{-\\lambda} \\cdot 1$$\n",
    "\n",
    "We can conclude,\n",
    "\n",
    "$$P(x=k; \\lambda)= \\frac{\\lambda^k}{k!} e^{-\\lambda}$$"
   ]
  },
  {
   "cell_type": "markdown",
   "metadata": {
    "slideshow": {
     "slide_type": "subslide"
    }
   },
   "source": [
    "**Example**\n",
    "1. Seorang astronom mengamati sebuah bintang neutron dengan detektor X-ray. Detektor menerima rata-rata 10 foton per detik dari bintang neutron tersebut. Berapa probabilitas detektor menerima 25 foton dalam waktu 2 detik dari bintang neutron tersebut?    \n",
    "    \n",
    "2. If electricity power failures occur according to a Poisson distribution with an average of 5 failures every twenty weeks, calculate the probability that there will not be more than one failure during a particular week."
   ]
  },
  {
   "cell_type": "code",
   "execution_count": null,
   "metadata": {},
   "outputs": [],
   "source": []
  },
  {
   "cell_type": "markdown",
   "metadata": {},
   "source": [
    "Jawaban 1."
   ]
  },
  {
   "cell_type": "code",
   "execution_count": 4,
   "metadata": {},
   "outputs": [
    {
     "data": {
      "text/plain": [
       "0.04458764910826789"
      ]
     },
     "execution_count": 4,
     "metadata": {},
     "output_type": "execute_result"
    }
   ],
   "source": [
    "import numpy as np\n",
    "\n",
    "20**(25)/np.math.factorial(25)*np.exp(-20)"
   ]
  },
  {
   "cell_type": "code",
   "execution_count": 5,
   "metadata": {},
   "outputs": [
    {
     "data": {
      "text/plain": [
       "0.04458764910826764"
      ]
     },
     "execution_count": 5,
     "metadata": {},
     "output_type": "execute_result"
    }
   ],
   "source": [
    "from scipy.stats import poisson\n",
    "\n",
    "poisson.pmf(25, 20)"
   ]
  },
  {
   "cell_type": "code",
   "execution_count": 6,
   "metadata": {
    "slideshow": {
     "slide_type": "subslide"
    }
   },
   "outputs": [
    {
     "name": "stdout",
     "output_type": "stream",
     "text": [
      "mean :  20.0\n",
      "var  :  20.0\n",
      "skew :  0.22360679774997896\n",
      "kurt :  0.05\n",
      "Peluang mendapatkan 5 foton dalam 2 detik adalah 5.496409659836144e-05\n",
      "Peluang mendapatkan 6 foton dalam 2 detik adalah 0.00018321365532787177\n",
      "Peluang mendapatkan 7 foton dalam 2 detik adalah 0.0005234675866510618\n",
      "Peluang mendapatkan 8 foton dalam 2 detik adalah 0.0013086689666276534\n",
      "Peluang mendapatkan 9 foton dalam 2 detik adalah 0.002908153259172565\n",
      "Peluang mendapatkan 10 foton dalam 2 detik adalah 0.00581630651834512\n",
      "Peluang mendapatkan 11 foton dalam 2 detik adalah 0.01057510276062752\n",
      "Peluang mendapatkan 12 foton dalam 2 detik adalah 0.017625171267712562\n",
      "Peluang mendapatkan 13 foton dalam 2 detik adalah 0.02711564810417317\n",
      "Peluang mendapatkan 14 foton dalam 2 detik adalah 0.03873664014881865\n",
      "Peluang mendapatkan 15 foton dalam 2 detik adalah 0.05164885353175814\n",
      "Peluang mendapatkan 16 foton dalam 2 detik adalah 0.06456106691469761\n",
      "Peluang mendapatkan 17 foton dalam 2 detik adalah 0.07595419637023251\n",
      "Peluang mendapatkan 18 foton dalam 2 detik adalah 0.08439355152248075\n",
      "Peluang mendapatkan 19 foton dalam 2 detik adalah 0.0888353173920848\n",
      "Peluang mendapatkan 20 foton dalam 2 detik adalah 0.0888353173920848\n",
      "Peluang mendapatkan 21 foton dalam 2 detik adalah 0.08460506418293791\n",
      "Peluang mendapatkan 22 foton dalam 2 detik adalah 0.07691369471176195\n",
      "Peluang mendapatkan 23 foton dalam 2 detik adalah 0.06688147366240117\n",
      "Peluang mendapatkan 24 foton dalam 2 detik adalah 0.05573456138533489\n",
      "Peluang mendapatkan 25 foton dalam 2 detik adalah 0.04458764910826764\n",
      "Peluang mendapatkan 26 foton dalam 2 detik adalah 0.03429819162174451\n",
      "Peluang mendapatkan 27 foton dalam 2 detik adalah 0.025406067867958883\n",
      "Peluang mendapatkan 28 foton dalam 2 detik adalah 0.01814719133425623\n",
      "Peluang mendapatkan 29 foton dalam 2 detik adalah 0.012515304368452648\n",
      "Peluang mendapatkan 30 foton dalam 2 detik adalah 0.008343536245635134\n",
      "Peluang mendapatkan 31 foton dalam 2 detik adalah 0.005382926610087127\n",
      "Peluang mendapatkan 32 foton dalam 2 detik adalah 0.003364329131304493\n",
      "Peluang mendapatkan 33 foton dalam 2 detik adalah 0.002038987352305724\n",
      "Peluang mendapatkan 34 foton dalam 2 detik adalah 0.0011994043248857392\n",
      "Peluang mendapatkan 35 foton dalam 2 detik adalah 0.0006853738999347143\n"
     ]
    },
    {
     "data": {
      "text/plain": [
       "<matplotlib.legend.Legend at 0x1b9547b9f10>"
      ]
     },
     "execution_count": 6,
     "metadata": {},
     "output_type": "execute_result"
    },
    {
     "data": {
      "image/png": "[encoded data removed]",
      "text/plain": [
       "<Figure size 432x288 with 1 Axes>"
      ]
     },
     "metadata": {
      "needs_background": "light"
     },
     "output_type": "display_data"
    }
   ],
   "source": [
    "from scipy.stats import poisson\n",
    "import matplotlib.pyplot as plt\n",
    "\n",
    "mu = 20\n",
    "mean, var, skew, kurt = poisson.stats(mu, moments='mvsk')\n",
    "print(\"mean : \", mean)\n",
    "print(\"var  : \", var)\n",
    "print(\"skew : \", skew)\n",
    "print(\"kurt : \", kurt)\n",
    "\n",
    "x = np.arange(5, 36)\n",
    "\n",
    "for xi in x:\n",
    "    print(f\"Peluang mendapatkan {xi} foton dalam 2 detik adalah {poisson.pmf(xi, mu)}\")\n",
    "\n",
    "fig, ax = plt.subplots(1, 1)\n",
    "ax.plot(x, poisson.pmf(x, mu), 'bo', ms=8, label='poisson pmf')\n",
    "ax.vlines(x, 0, poisson.pmf(x, mu), colors='b', lw=5, alpha=0.5)\n",
    "plt.legend()"
   ]
  },
  {
   "cell_type": "markdown",
   "metadata": {},
   "source": [
    "Jawaban 2."
   ]
  },
  {
   "cell_type": "code",
   "execution_count": 7,
   "metadata": {},
   "outputs": [
    {
     "data": {
      "text/plain": [
       "0.9735009788392561"
      ]
     },
     "execution_count": 7,
     "metadata": {},
     "output_type": "execute_result"
    }
   ],
   "source": [
    "0.25**0/np.math.factorial(0) * np.exp(-0.25) + 0.25**1/np.math.factorial(1) * np.exp(-0.25)"
   ]
  },
  {
   "cell_type": "code",
   "execution_count": 8,
   "metadata": {
    "slideshow": {
     "slide_type": "subslide"
    }
   },
   "outputs": [
    {
     "name": "stdout",
     "output_type": "stream",
     "text": [
      "mean :  0.25\n",
      "var  :  0.25\n",
      "skew :  2.0\n",
      "kurt :  4.0\n",
      "k    :  [0 1 2 3 4 5 6 7 8 9]\n",
      "Peluang 0 kali mati listrk dalam seminggu = 0.7788007830714049.\n",
      "Peluang 1 kali mati listrk dalam seminggu = 0.19470019576785122.\n",
      "Peluang 2 kali mati listrk dalam seminggu = 0.024337524470981402.\n",
      "Peluang 3 kali mati listrk dalam seminggu = 0.00202812703924845.\n",
      "Peluang 4 kali mati listrk dalam seminggu = 0.00012675793995302808.\n",
      "Peluang 5 kali mati listrk dalam seminggu = 6.337896997651408e-06.\n",
      "Peluang 6 kali mati listrk dalam seminggu = 2.6407904156880876e-07.\n",
      "Peluang 7 kali mati listrk dalam seminggu = 9.431394341743183e-09.\n",
      "Peluang 8 kali mati listrk dalam seminggu = 2.947310731794738e-10.\n",
      "Peluang 9 kali mati listrk dalam seminggu = 8.186974254985393e-12.\n"
     ]
    },
    {
     "data": {
      "text/plain": [
       "<matplotlib.legend.Legend at 0x1b955680f70>"
      ]
     },
     "execution_count": 8,
     "metadata": {},
     "output_type": "execute_result"
    },
    {
     "data": {
      "image/png": "[encoded data removed]",
      "text/plain": [
       "<Figure size 432x288 with 1 Axes>"
      ]
     },
     "metadata": {
      "needs_background": "light"
     },
     "output_type": "display_data"
    }
   ],
   "source": [
    "mu = 5./20.\n",
    "mean, var, skew, kurt = poisson.stats(mu, moments='mvsk')\n",
    "print(\"mean : \", mean)\n",
    "print(\"var  : \", var)\n",
    "print(\"skew : \", skew)\n",
    "print(\"kurt : \", kurt)\n",
    "\n",
    "x = np.arange(0, 10)\n",
    "print(\"k    : \", x)\n",
    "\n",
    "for xi in x:\n",
    "    print(f\"Peluang {xi} kali mati listrk dalam seminggu = {poisson.pmf(xi, mu)}.\")\n",
    "\n",
    "fig, ax = plt.subplots(1, 1)\n",
    "ax.plot(x, poisson.pmf(x, mu), 'bo', ms=8, label='poisson pmf')\n",
    "ax.vlines(x, 0, poisson.pmf(x, mu), colors='b', lw=5, alpha=0.5)\n",
    "plt.legend()"
   ]
  },
  {
   "cell_type": "markdown",
   "metadata": {
    "slideshow": {
     "slide_type": "subslide"
    }
   },
   "source": [
    "**Exercise**\n",
    "\n",
    "---\n",
    "\n",
    "+ Vehicles pass through a junction on a busy road at an average rate of 600 per hour.\n",
    "    - Find the probability that none passes in a given minute.\n",
    "    - What is the expected number passing in two minutes?\n",
    "    - Find the probability that this expected number actually pass through in a given two-minute period.\n",
    "    \n",
    "+ Foton yang datang dari sebuah bintang rata-rata 10000 per detik\n",
    "    - berapa peluang mendapati 9950 foton dalam 1 detik? apakah bisa dihitung dengan kalkulator anda?\n",
    "    - berapa nilai standar deviasinya pengukuran jumlah foton dalam 1 detik?"
   ]
  },
  {
   "cell_type": "code",
   "execution_count": null,
   "metadata": {},
   "outputs": [],
   "source": []
  },
  {
   "cell_type": "markdown",
   "metadata": {},
   "source": [
    "##  Uniform Distribution\n",
    "---\n",
    "\n",
    "+ A uniform/rectangle distribution means there is a flat constant probability of a value occurring within a given range, and is concerned with events that are equally likely to occur.\n",
    "\n",
    "+ PDF for uniform distribution:\n",
    "\n",
    "$$\n",
    "  f(x)=\\begin{cases}\n",
    "  \\frac{1}{b - a} & \\mathrm{for}\\ a \\le x \\le b, \\\\[8pt]\n",
    "  0 & \\mathrm{for}\\ x<a\\ \\mathrm{or}\\ x>b\n",
    "  \\end{cases}\n",
    "$$\n",
    "\n",
    "<img src=\"https://raw.githubusercontent.com/ridlo/statistics/main/img/pdf_uniform.png\" width=300>\n",
    "\n",
    "+ The mean and median value is the same,\n",
    "\n",
    "$$\\mu = E(X) = \\frac{1}{2} (a + b)$$\n",
    "\n",
    "+ Variance of the uniform distribution is\n",
    "\n",
    "$$\\sigma^2 = \\text{Var}(X) = \\frac{(b - a)^2}{12}$$\n",
    "\n",
    "\n",
    "+ CDF:\n",
    "\n",
    "$$\n",
    "  F(x)= \\begin{cases}\n",
    "  0 & \\text{for }x < a \\\\[8pt]\n",
    "  \\frac{x-a}{b-a} & \\text{for }a \\le x \\le b \\\\[8pt]\n",
    "  1 & \\text{for }x > b\n",
    "  \\end{cases}\n",
    "$$\n",
    "\n",
    "<img src=\"https://raw.githubusercontent.com/ridlo/statistics/main/img/cdf_uniform.png\" width=300>\n",
    "\n",
    "+ Inverse CDF:\n",
    "\n",
    "$$F^{-1}(p) = a + p (b - a) \\,\\,\\text{ for } 0<p<1$$"
   ]
  },
  {
   "cell_type": "code",
   "execution_count": null,
   "metadata": {},
   "outputs": [],
   "source": []
  },
  {
   "cell_type": "markdown",
   "metadata": {
    "slideshow": {
     "slide_type": "slide"
    }
   },
   "source": [
    "## Normal/Gaussian Distribution\n",
    "---\n",
    "\n",
    "+ Normal distributions are important in statistics and are often used in the natural and social sciences to represent real-valued random variables *whose distributions are not known*.\n",
    "\n",
    "+ Their importance is partly due to the **central limit theorem**. \n",
    "\n",
    "+ Related to **Gaussian process**: a random/stochastic process (a collection of random variables indexed by time or space), such that every finite collection of those random variables has a multivariate normal distribution, i.e. every finite linear combination of them is normally distributed.\n",
    "\n",
    "+ PDF for normal distribution:\n",
    "$$f(x) = \\varphi(x) = \\frac{1}{\\sigma \\sqrt{2\\pi}} e^{-\\frac{1}{2} \\left( \\frac{x - \\mu}{\\sigma} \\right)^2 } $$\n",
    "\n",
    "    + The parameter $\\mu$  is the mean or expectation of the distribution (and also its median and mode)\n",
    "    + The parameter $\\sigma$ is its standard deviation. The variance of the distribution is $\\sigma^{2}$. \n",
    "\n",
    "\n",
    "+ CDF:\n",
    "$$F(x) = \\Phi(x) = \\frac{1}{2}\\left[ 1 + \\text{erf}\\left( \\frac{x-\\mu}{\\sigma \\sqrt{2}} \\right) \\right]$$\n",
    "\n",
    "    \n",
    "<img src=\"https://raw.githubusercontent.com/ridlo/statistics/main/img/normal.png\" width=400> \n",
    "\n",
    "<img src=\"https://raw.githubusercontent.com/ridlo/statistics/main/img/normal_cdf.png\" width=400>    \n"
   ]
  },
  {
   "cell_type": "markdown",
   "metadata": {
    "slideshow": {
     "slide_type": "subslide"
    }
   },
   "source": [
    "+ Symbol: $X \\sim \\mathcal{N}(\\mu, \\sigma^2)$\n",
    "\n",
    "+ **Standard** normal distribution: $Z = \\mathcal{N}(0, 1)$\n",
    "\n",
    "+ A normal distribution can be transform to standard normal distribution:\n",
    "    \n",
    "    $Z = \\frac{X - \\mu}{\\sigma}$\n",
    "  \n",
    "  or vice versa\n",
    "    \n",
    "    $X = \\sigma Z + \\mu$\n",
    "    \n",
    "    \n",
    "+ Gaussian distributions have some unique properties that are valuable in analytic studies:\n",
    "    + any linear combination of a fixed collection of normal deviates is a normal deviate. \n",
    "    + Many results and methods, such as propagation of uncertainty and least squares parameter fitting, can be derived analytically in explicit form when the relevant variables are normally distributed."
   ]
  },
  {
   "cell_type": "markdown",
   "metadata": {},
   "source": [
    "### Contoh Plot Gaussian dengan Python"
   ]
  },
  {
   "cell_type": "code",
   "execution_count": 9,
   "metadata": {
    "slideshow": {
     "slide_type": "subslide"
    }
   },
   "outputs": [
    {
     "name": "stdout",
     "output_type": "stream",
     "text": [
      "[-0.19886148 -0.40261938  0.1887574  ... -0.66627952  1.05260903\n",
      " -1.19980292]\n",
      " ------------- \n",
      "Not normalized, total: number of data/population/sample\n",
      "Count [51]:  [  4.   4.   6.   5.  11.  17.  25.  23.  41.  57.  72.  85. 112. 152.\n",
      " 178. 257. 260. 308. 358. 385. 451. 425. 550. 555. 519. 565. 531. 479.\n",
      " 500. 450. 381. 383. 315. 310. 276. 218. 177. 142. 103.  78.  55.  54.\n",
      "  36.  22.  19.  14.  13.   9.   6.   2.   2.]\n",
      "bins:  [-3.37959777 -3.24553883 -3.11147988 -2.97742093 -2.84336199 -2.70930304\n",
      " -2.5752441  -2.44118515 -2.30712621 -2.17306726 -2.03900831 -1.90494937\n",
      " -1.77089042 -1.63683148 -1.50277253 -1.36871359 -1.23465464 -1.10059569\n",
      " -0.96653675 -0.8324778  -0.69841886 -0.56435991 -0.43030096 -0.29624202\n",
      " -0.16218307 -0.02812413  0.10593482  0.23999376  0.37405271  0.50811166\n",
      "  0.6421706   0.77622955  0.91028849  1.04434744  1.17840638  1.31246533\n",
      "  1.44652428  1.58058322  1.71464217  1.84870111  1.98276006  2.116819\n",
      "  2.25087795  2.3849369   2.51899584  2.65305479  2.78711373  2.92117268\n",
      "  3.05523162  3.18929057  3.32334952  3.45740846]\n",
      "width:  0.13405894575793287\n",
      " ------------- \n",
      "Normalized, total: 1\n"
     ]
    },
    {
     "data": {
      "image/png": "[encoded data removed]",
      "text/plain": [
       "<Figure size 720x216 with 2 Axes>"
      ]
     },
     "metadata": {
      "needs_background": "light"
     },
     "output_type": "display_data"
    },
    {
     "data": {
      "image/png": "[encoded data removed]",
      "text/plain": [
       "<Figure size 720x216 with 2 Axes>"
      ]
     },
     "metadata": {
      "needs_background": "light"
     },
     "output_type": "display_data"
    }
   ],
   "source": [
    "## Example of data with Normal distribution\n",
    "mu = 0.0\n",
    "sigma = 1.0\n",
    "Nsample = 10000\n",
    "\n",
    "s = np.random.normal(mu, sigma, Nsample) # normal/gaussian dist. random number generator\n",
    "print(s)\n",
    "\n",
    "nbins=51\n",
    "\n",
    "from scipy.special import erf # for cdf plot\n",
    "\n",
    "print(\" ------------- \")\n",
    "print(\"Not normalized, total: number of data/population/sample\")\n",
    "\n",
    "gambar = plt.figure(figsize=(10,3), constrained_layout=True)\n",
    "gsarr = gambar.add_gridspec(1, 2)\n",
    "\n",
    "plotpdf = gambar.add_subplot(gsarr[0, 0])\n",
    "count, bins, ignored = plotpdf.hist(s, nbins);\n",
    "width = bins[1]-bins[0]\n",
    "print(f\"Count [{len(count)}]: \", count)\n",
    "print(\"bins: \", bins)\n",
    "print(\"width: \", width)\n",
    "plotpdf.plot(bins, Nsample*width * 1/(sigma * np.sqrt(2 * np.pi)) * np.exp( - (bins - mu)**2 / (2 * sigma**2) ), linewidth=2, color='r') # size, color\n",
    "plotpdf.set_xlabel(r\"$x$\")\n",
    "plotpdf.set_ylabel(r\"$freq$\")\n",
    "\n",
    "plotcdf = gambar.add_subplot(gsarr[0, 1])\n",
    "plotcdf.hist(s, nbins, cumulative=True);\n",
    "plotcdf.plot(bins, Nsample * 0.5*(1 + erf((bins-mu)/(np.sqrt(2)*sigma))), linewidth=2, color='r')\n",
    "plotcdf.set_xlabel(r\"$x$\")\n",
    "plotcdf.set_ylabel(r\"$cumulative freq$\");\n",
    "\n",
    "# plt.plot(bins, Nsample*width * 1/(sigma * np.sqrt(2 * np.pi)) * np.exp( - (bins - mu)**2 / (2 * sigma**2) ), linewidth=2, color='r')\n",
    "# plt.show()\n",
    "\n",
    "# count, bins, ignored = plt.hist(s, nbins, cumulative=True);\n",
    "# plt.plot(bins, Nsample * 0.5*(1 + erf((bins-mu)/(np.sqrt(2)*sigma))), linewidth=2, color='r')\n",
    "# plt.show()\n",
    "\n",
    "#####\n",
    "print(\" ------------- \")\n",
    "print(\"Normalized, total: 1\")\n",
    "## density True -> normalize -> pdf\n",
    "gambar2 = plt.figure(figsize=(10,3), constrained_layout=True)\n",
    "gsarr = gambar2.add_gridspec(1, 2)\n",
    "\n",
    "plotpdf = gambar2.add_subplot(gsarr[0, 0])\n",
    "count, bins, ignored = plotpdf.hist(s, nbins, density=True);\n",
    "plotpdf.plot(bins, 1/(sigma * np.sqrt(2 * np.pi)) * np.exp( - (bins - mu)**2 / (2 * sigma**2) ), linewidth=2, color='r')\n",
    "plotpdf.set_xlabel(\"x\")\n",
    "plotpdf.set_ylabel(\"pdf\")\n",
    "\n",
    "plotcdf = gambar2.add_subplot(gsarr[0, 1])\n",
    "plotcdf.hist(s, nbins, density=True, cumulative=True);\n",
    "plotcdf.plot(bins, 0.5*(1 + erf((bins-mu)/(np.sqrt(2)*sigma))), linewidth=2, color='r')\n",
    "plotcdf.set_xlabel(\"x\")\n",
    "plotcdf.set_ylabel(\"cdf\");"
   ]
  },
  {
   "cell_type": "code",
   "execution_count": null,
   "metadata": {},
   "outputs": [],
   "source": []
  },
  {
   "cell_type": "markdown",
   "metadata": {
    "slideshow": {
     "slide_type": "subslide"
    }
   },
   "source": [
    "### Central Limit Theorem\n",
    "\n",
    "---\n",
    "+ It states that, under some conditions, the average of many samples (observations) of a random variable with finite mean and variance is itself a random variable--whose distribution *converges* to a **normal distribution** as the number of samples increases. \n",
    "\n",
    "+ Therefore, physical quantities that are expected to be the sum of many independent processes, such as measurement errors, often have distributions that are nearly *normal*.\n",
    "\n",
    "+ The theorem is a key concept in probability theory because it implies that probabilistic and statistical methods that work for normal distributions can be applicable to many problems involving other types of distributions.\n",
    "\n",
    "<img src=\"https://raw.githubusercontent.com/ridlo/statistics/main/img/clt.png\" width=500 />"
   ]
  },
  {
   "cell_type": "markdown",
   "metadata": {
    "slideshow": {
     "slide_type": "subslide"
    }
   },
   "source": [
    "**Example**\n",
    "\n",
    "`MonteCarlo` to \"prove\" Central Limit Theorem"
   ]
  },
  {
   "cell_type": "code",
   "execution_count": 10,
   "metadata": {
    "slideshow": {
     "slide_type": "fragment"
    }
   },
   "outputs": [
    {
     "name": "stdout",
     "output_type": "stream",
     "text": [
      "N: 36983\n",
      "Mean population:  -0.6804899741368898 \n",
      "Std Dev Population:  1.4000149737367817\n"
     ]
    },
    {
     "data": {
      "image/png": "[encoded data removed]",
      "text/plain": [
       "<Figure size 432x288 with 1 Axes>"
      ]
     },
     "metadata": {
      "needs_background": "light"
     },
     "output_type": "display_data"
    }
   ],
   "source": [
    "import numpy as np\n",
    "import matplotlib.pyplot as plt\n",
    "np.random.seed(42)\n",
    "\n",
    "# baca file\n",
    "data = np.genfromtxt(\"https://raw.githubusercontent.com/APS-ITERA/Modul_Statistik/main/Modul_MonteCarlo/data_pop.txt\")\n",
    "\n",
    "print(\"N:\", len(data))\n",
    "\n",
    "mean_pop = data.mean()\n",
    "sigma_pop = data.std()\n",
    "\n",
    "print(\"Mean population: \", mean_pop, \"\\nStd Dev Population: \", sigma_pop)\n",
    "\n",
    "count, bins, ignored = plt.hist(data, bins=51);"
   ]
  },
  {
   "cell_type": "code",
   "execution_count": 11,
   "metadata": {},
   "outputs": [
    {
     "data": {
      "text/plain": [
       "<matplotlib.legend.Legend at 0x1b956a31eb0>"
      ]
     },
     "execution_count": 11,
     "metadata": {},
     "output_type": "execute_result"
    },
    {
     "data": {
      "image/png": "[encoded data removed]",
      "text/plain": [
       "<Figure size 432x288 with 1 Axes>"
      ]
     },
     "metadata": {
      "needs_background": "light"
     },
     "output_type": "display_data"
    }
   ],
   "source": [
    "Nsample = 25\n",
    "Nsampling = 10000\n",
    "\n",
    "meansamples = []\n",
    "for i in range(Nsampling):\n",
    "    sample = np.random.choice(data, Nsample)\n",
    "    meansamples.append(np.mean(sample))\n",
    "    \n",
    "    \n",
    "count, bins, ignored = plt.hist(meansamples, bins=41);\n",
    "width = bins[1] - bins[0]\n",
    "\n",
    "sample_sigma = sigma_pop/np.sqrt(Nsample)\n",
    "sample_mean = mean_pop\n",
    "\n",
    "plt.plot(bins, Nsampling*width * 1/(sample_sigma * np.sqrt(2 * np.pi)) * np.exp( - (bins - sample_mean)**2 / (2 * sample_sigma**2) ), \n",
    "         linewidth = 2, \n",
    "         color = 'r',\n",
    "         label = f\"$N$({round(sample_mean, 2)}, {round(sample_sigma, 2)}$^2$)\")\n",
    "\n",
    "plt.legend()"
   ]
  },
  {
   "cell_type": "code",
   "execution_count": null,
   "metadata": {},
   "outputs": [],
   "source": []
  },
  {
   "cell_type": "markdown",
   "metadata": {
    "slideshow": {
     "slide_type": "subslide"
    }
   },
   "source": [
    "### Standard score / $z$-score\n",
    "\n",
    "---\n",
    "\n",
    "+ Normal distribution very often used in measurement, to define how far a particular data/measurement from the collection of normally distributed data, we used $z$-score (normal score, $z$-value, standard score):\n",
    "$$z = \\frac{x - \\mu}{\\sigma}$$\n",
    "  where: $\\mu$ is the mean of the population and $\\sigma$ is the standard deviation of the population\n",
    "\n",
    "  - The absolute value of $z$ represents the distance between that raw score $x$ and the population mean in units of the standard deviation. $z$ is negative when the raw score is below the mean, positive when above.\n",
    "\n",
    "  - Calculating $z$ using this formula requires the population mean and the population standard deviation, not the sample mean or sample deviation. But knowing the true mean and standard deviation of a population is often unrealistic except in cases such as standardized testing, where the entire population is measured. \n",
    "\n",
    "  - When the population mean and the population standard deviation are unknown, the standard score may be calculated using the sample mean and sample standard deviation as estimates of the population values.\n",
    "\n",
    "<img src=\"https://raw.githubusercontent.com/ridlo/statistics/main/img/z_score.png\" width=500>\n"
   ]
  },
  {
   "cell_type": "markdown",
   "metadata": {
    "slideshow": {
     "slide_type": "subslide"
    }
   },
   "source": [
    "**Example**\n",
    "\n",
    "---\n",
    "\n",
    "+ Nilai rata-rata mata kuliah Biologi 5000 mahasiswa ITERA adalah 63.3 dengan standar deviasi 9.5? Perkirakan jumlah mahasiswa yang nilainya kurang dari 50?"
   ]
  },
  {
   "cell_type": "code",
   "execution_count": null,
   "metadata": {},
   "outputs": [],
   "source": []
  },
  {
   "cell_type": "markdown",
   "metadata": {
    "slideshow": {
     "slide_type": "subslide"
    }
   },
   "source": [
    "**Menggunakan tabel $z$-score**\n",
    "\n",
    "Contoh salah satu varian tabel $z$-score:\n",
    "\n",
    "<img src=\"https://raw.githubusercontent.com/ridlo/statistics/main/img/z-score.png\" width=500>\n",
    "\n",
    "+ Pertama kita hitung nilai z terlebih dahulu (kita \"petakan\" ke Gaussian standar dengan $\\mu = 0$ dan $\\sigma=1$).\n",
    "$$z = \\frac{50 - 63.3}{9.5} = -1.4$$\n",
    "\n",
    "+ Dari tabel tersebut kita peroleh bahwa luas area di bawah kurva antara mean (0) dengan $z=-1.4$, yaitu \n",
    "$$\\text{Pr}(0<z<1.4) = \\text{Pr}(-1.4<z<0) = 0.4192$$, \n",
    "\n",
    "+ artinya untuk nilai $\\text{Pr}(z<-1.4) = \\text{Pr}(x<50) = 1 - (0.5 - 0.4192) = 0.0808$ atau $0.5 - 0.4192 = 0.0808$"
   ]
  },
  {
   "cell_type": "markdown",
   "metadata": {
    "slideshow": {
     "slide_type": "subslide"
    }
   },
   "source": [
    "**Menggunakan `scipy.stats`**"
   ]
  },
  {
   "cell_type": "code",
   "execution_count": 12,
   "metadata": {
    "slideshow": {
     "slide_type": "fragment"
    }
   },
   "outputs": [
    {
     "name": "stdout",
     "output_type": "stream",
     "text": [
      "0.08075665923377112\n"
     ]
    }
   ],
   "source": [
    "from scipy.stats import norm\n",
    "\n",
    "peluang_kurang_dari_x = norm.cdf(x=50, loc=63.3, scale=9.5)\n",
    "\n",
    "print(peluang_kurang_dari_x)"
   ]
  },
  {
   "cell_type": "code",
   "execution_count": null,
   "metadata": {},
   "outputs": [],
   "source": []
  },
  {
   "cell_type": "markdown",
   "metadata": {
    "slideshow": {
     "slide_type": "subslide"
    }
   },
   "source": [
    "**Example**\n",
    "\n",
    "---\n",
    "\n",
    "+ Distribusi nilai Fisika Dasar 3000 mahasiswa ITERA mengikuti profil distribusi normal dengan rata-rata 50 dan standar deviasi 10. Saitama adalah mahasiswa elit, masuk dalam 1% kelompok mahasiswa dengan nilai tertinggi. Perkirakan nilai minimal seorang mahasiswa (misal Saitama) sehingga ia bisa masuk mahasiswa elit?"
   ]
  },
  {
   "cell_type": "code",
   "execution_count": null,
   "metadata": {},
   "outputs": [],
   "source": []
  },
  {
   "cell_type": "markdown",
   "metadata": {
    "slideshow": {
     "slide_type": "fragment"
    }
   },
   "source": [
    "**Menggunakan tabel $z$-score**\n",
    "\n",
    "+ Mencari batas nilai untuk elit 1% teratas artinya sama dengan kita mencari batas ($x$) sehingga,\n",
    "$$\\text{P}(\\text{nilai} > x) = 0.01$$ atau $$\\text{P}(\\text{nilai} < x) = 0.99$$\n",
    "+ Nilai batas $x$ tersebut akan bersesuaian dengan nilai $z$ tertentu pada tabel di atas, karena tabelnya memberi nilai integral 0 hingga $z$ nilai yang sesuai adalah $P(0 \\rightarrow z) = 0.49$\n",
    "+ Nilai $z$ pada tabel yang memiliki nilai terdekat dengan $P(0 \\rightarrow z) = 0.49$ adalah $z = 2.33$ yang bersesuaian dengan $x = 50 + 2.33 \\cdot 10 = 73.3$\n",
    "+ Dapat disimpulkan, untuk masuk dalam kelompok mahasiswa elit (1% teratas), nilai Fisika Dasarnya minimal:  73.3\n",
    "\n",
    "---\n",
    "\n",
    "**Menggunakan `scipy.stats`**"
   ]
  },
  {
   "cell_type": "code",
   "execution_count": 13,
   "metadata": {
    "slideshow": {
     "slide_type": "fragment"
    }
   },
   "outputs": [
    {
     "name": "stdout",
     "output_type": "stream",
     "text": [
      "Untuk masuk dalam kelompok mahasiswa elit (1% teratas), nilai fisika dasarnya minimal:  73.2634787404084\n"
     ]
    }
   ],
   "source": [
    "from scipy.stats import norm\n",
    "nilai = norm.ppf(q=0.99, loc=50, scale=10)\n",
    "\n",
    "print(\"Untuk masuk dalam kelompok mahasiswa elit (1% teratas), nilai fisika dasarnya minimal: \", nilai)"
   ]
  },
  {
   "cell_type": "code",
   "execution_count": 14,
   "metadata": {
    "slideshow": {
     "slide_type": "subslide"
    }
   },
   "outputs": [
    {
     "data": {
      "image/png": "[encoded data removed]",
      "text/plain": [
       "<Figure size 432x288 with 1 Axes>"
      ]
     },
     "metadata": {
      "needs_background": "light"
     },
     "output_type": "display_data"
    }
   ],
   "source": [
    "## Coba kita plot\n",
    "mu = 50\n",
    "sig = 10\n",
    "\n",
    "xlow = 0 # untuk plot nilai (0 hingga 100) dengan binsize 0.01 -> generate x\n",
    "xhigh = 100\n",
    "dx = 0.01\n",
    "\n",
    "tidak_elit = norm.cdf(x=nilai, loc=mu, scale=sig) # CDF dr -infty hingga x -> 0.99\n",
    "elit = 1 - tidak_elit # -> 0.01\n",
    "\n",
    "fig, ax = plt.subplots()\n",
    "x = np.arange(xlow, xhigh, dx) # generate\n",
    "ax.plot(x, norm.pdf(x, loc=mu, scale=sig)) # plot kurva pdf\n",
    "ax.set_title(f\"N({mu}, ${sig}^2$)\")\n",
    "ax.set_xlabel('x')\n",
    "ax.set_ylabel('pdf(x)')\n",
    "ax.grid(True)\n",
    "\n",
    "px = np.arange(nilai, xhigh, dx) # plot sisi kanan (elit)\n",
    "ax.set_ylim(0, 1.1*norm.pdf(mu, loc=mu, scale=sig))\n",
    "ax.fill_between(px, norm.pdf(px, loc=mu, scale=sig), alpha=0.5, color='g')\n",
    "\n",
    "px1 = np.arange(xlow, nilai, dx) # plot arsir sisi kiri (tidak elit)\n",
    "ax.fill_between(px1, norm.pdf(px1,loc=mu,scale=sig), alpha=0.5, color='r')\n",
    "ax.text(43, 0.01, round(tidak_elit, 2), fontsize=16) # tulis teks \"0.99\"\n",
    "ax.text(80, 0.001, round(elit, 2), fontsize=16, color='g') # tulis teks \"0.01\"\n",
    "plt.show()"
   ]
  },
  {
   "cell_type": "code",
   "execution_count": null,
   "metadata": {},
   "outputs": [],
   "source": []
  },
  {
   "cell_type": "markdown",
   "metadata": {},
   "source": [
    "## Exponential Distribution\n",
    "\n",
    "+ **Exponential distribution** is a continuous probability distribution that describes the waiting time until the next event (success, failure, arrival, etc) in a Poisson process. \n",
    "\n",
    "+ A **Poisson process** is a model for a series of discrete events where the average time between events is known, but the exact timing of events is random. The arrival of an event is independent of the event before (waiting time between events is **memoryless**).\n",
    "\n",
    "+ Example:\n",
    "    - How much time will go before a customer call happens?\n",
    "    - How much time will go before the next customer arrive in the shop?\n",
    "    - How much time will pass by before the next robbery happens in any part of the city?\n",
    "    - How much time will pass by before the next childbirth in the city?\n",
    "    - How much time will go until the customer finishes browsing and actually purchases something in your store (success)?\n",
    "    - How much time will go until the hardware on AWS EC2 fails (failure)?\n",
    "    - How much time will go until the bus arrives (arrival)?\n",
    "    \n",
    "+ pdf:\n",
    "$$\n",
    "f(x;\\lambda) = \\begin{cases}\n",
    "\\lambda  e^{ - \\lambda x} & x \\ge 0, \\\\\n",
    "0 & x < 0.\n",
    "\\end{cases}\n",
    "$$\n",
    "\n",
    "+ Here $\\lambda > 0$ is the parameter of the distribution, often called the *rate parameter*. The distribution is supported on the interval $[0, \\infty)$.\n",
    "\n",
    "+ cdf:\n",
    "$$\n",
    "F(x;\\lambda) = \\begin{cases}\n",
    "1-e^{-\\lambda x} & x \\ge 0, \\\\\n",
    "0 & x < 0.\n",
    "\\end{cases}\n",
    "$$\n",
    "\n",
    "+ $\\lambda$ = number of event per time-interval, the same $\\lambda$ used in Poisson distribution (both are based on Poisson process).\n",
    "\n",
    "+ Expected value (mean), $\\mu = E(X) = \\frac{1}{\\lambda}$, waiting time per event\n",
    "\n",
    "+ Variance, $\\text{Var}(X) = \\frac{1}{\\lambda^2}$\n",
    "\n",
    "+ ppf:\n",
    "\n",
    "$$F^{-1}(p;\\lambda) = \\frac{-\\ln(1-p)}{\\lambda},\\qquad 0 \\le p < 1$$\n",
    "\n",
    "+ Let $T$ be the random variable representing the time that has elapsed since the last event has occurred, the waiting time between events in the Poisson process. This **memoryless property** of the Poisson process relates the probabilities:\n",
    "\n",
    "$$P(T > s + t|T > s) = P(X > t)$$.\n",
    "\n",
    "+ In words, if we've already waited a time $s$ without seeing an event ($T>s$), the probability that an event won't occur in the next $t$ minutes, $P(T>t+s|T>s)$, is the same as if we hadn't already waited the time $s$, $P(T>t)$.\n",
    "\n",
    "+ Just by enforcing this memoryless condition, we will discover that the waiting time $T$ is necessarily exponentially distributed, $P(T>t)=e^{-λt}$."
   ]
  },
  {
   "cell_type": "code",
   "execution_count": null,
   "metadata": {},
   "outputs": [],
   "source": []
  },
  {
   "cell_type": "markdown",
   "metadata": {},
   "source": [
    "**Example**:\n",
    "1. Suppose the mean number of minutes between eruptions for a certain geyser is 40 minutes. If a geyser just erupts, what is the probability that we’ll have to wait less than 50 minutes for the next eruption?\n",
    "\n",
    "2. Students arrive at a local bar and restaurant according to an approximate Poisson process at a mean rate of 30 students per hour. What is the probability that the bouncer has to wait more than 3 minutes to card the next student?"
   ]
  },
  {
   "cell_type": "code",
   "execution_count": null,
   "metadata": {},
   "outputs": [],
   "source": []
  },
  {
   "cell_type": "markdown",
   "metadata": {},
   "source": [
    "**Answer**:\n",
    "\n",
    "1. Rata-rata 1 geyser muncul tiap 40 menit (waktu tunggu rata-rata = 40 menit), setelah geyser muncul, geyser berikutnya dapat muncul kapan saja, kemungkinan muncul dalam waktu *kurang dari 50 menit* (dihitung dari waktu geyser terakhir muncul) dapat dicari dengan menggunakan cdf\n",
    "\n",
    "$$P(x<50; \\lambda=\\frac{1}{40}) = 1 - e^{-\\lambda x} = 1 - e^{-\\frac{50}{40}} = 0.7134952...$$"
   ]
  },
  {
   "cell_type": "code",
   "execution_count": 15,
   "metadata": {},
   "outputs": [
    {
     "data": {
      "text/plain": [
       "0.7134952031398099"
      ]
     },
     "execution_count": 15,
     "metadata": {},
     "output_type": "execute_result"
    }
   ],
   "source": [
    "# contoh menggunakan fungsi di python scipy\n",
    "from scipy.stats import expon\n",
    "\n",
    "expon.cdf(x=50, scale=40.) # scale = 1/lambda = mean"
   ]
  },
  {
   "cell_type": "code",
   "execution_count": 16,
   "metadata": {},
   "outputs": [],
   "source": [
    "# tambahan\n",
    "import numpy as np\n",
    "from scipy.stats import expon\n",
    "import matplotlib.pyplot as plt\n",
    "\n",
    "x = np.linspace(1, 100, 100) # 1 menit hingga 100 menit\n",
    "y = []\n",
    "Y = []\n",
    "for xi in x:\n",
    "    y.append(expon.pdf(xi, scale=40.))\n",
    "    Y.append(expon.cdf(xi, scale=40.))"
   ]
  },
  {
   "cell_type": "code",
   "execution_count": 17,
   "metadata": {},
   "outputs": [
    {
     "data": {
      "image/png": "[encoded data removed]",
      "text/plain": [
       "<Figure size 720x216 with 2 Axes>"
      ]
     },
     "metadata": {
      "needs_background": "light"
     },
     "output_type": "display_data"
    }
   ],
   "source": [
    "gambar = plt.figure(figsize=(10,3), constrained_layout=True)\n",
    "gsarr = gambar.add_gridspec(1, 2)\n",
    "\n",
    "plotpdf = gambar.add_subplot(gsarr[0, 0])\n",
    "plotpdf.scatter(x, y, s=1) # size, color\n",
    "plotpdf.set_xlabel(r\"$x$\")\n",
    "plotpdf.set_ylabel(r\"$f_x$\")\n",
    "\n",
    "plotcdf = gambar.add_subplot(gsarr[0, 1])\n",
    "plotcdf.scatter(x, Y, s=1, c=\"red\") # size, color\n",
    "plotcdf.set_xlabel(r\"$x$\")\n",
    "plotcdf.set_ylabel(r\"$F_x$\");"
   ]
  },
  {
   "cell_type": "code",
   "execution_count": null,
   "metadata": {},
   "outputs": [],
   "source": []
  },
  {
   "cell_type": "markdown",
   "metadata": {},
   "source": [
    "2. Diketahui: \n",
    "    + rate: 30 mahasiswa/jam\n",
    "    \n",
    "   Ditanyakan:\n",
    "    + peluang menunggu lebih dari 3 menit hingga mahasiswa berikutnya datang\n",
    "    \n",
    "   Jawab:\n",
    "   \n",
    "   $\\lambda$ = 1/2 mahasiswa per menit\n",
    "   \n",
    "   atau \n",
    "   \n",
    "   Waktu tunggu rata-rata per mahasiswa ($\\mu = \\frac{1}{\\lambda}$) = 2 menit\n",
    "   \n",
    "    $$P \\left( x>3; \\lambda=\\frac{1}{2} \\right) = 1 - P\\left(x \\leq 0.5 \\right) = 1 - \\left(1 - e^{-\\lambda x} \\right) = e^{-\\lambda x} = e^{-0.5 \\cdot 3} = 0.22313016015$$"
   ]
  },
  {
   "cell_type": "code",
   "execution_count": 18,
   "metadata": {},
   "outputs": [
    {
     "name": "stdout",
     "output_type": "stream",
     "text": [
      "0.2231301601484298\n"
     ]
    }
   ],
   "source": [
    "from scipy.stats import expon\n",
    "\n",
    "print(1 - expon.cdf(3, scale=2)) # scale = mu"
   ]
  },
  {
   "cell_type": "code",
   "execution_count": 19,
   "metadata": {},
   "outputs": [],
   "source": [
    "import numpy as np\n",
    "from scipy.stats import expon\n",
    "import matplotlib.pyplot as plt\n",
    "\n",
    "x = np.linspace(1, 5, 100) # 1 menit hingga 100 menit\n",
    "y = []\n",
    "Y = []\n",
    "for xi in x:\n",
    "    y.append(expon.pdf(xi, scale=2.))\n",
    "    Y.append(expon.cdf(xi, scale=2.))"
   ]
  },
  {
   "cell_type": "code",
   "execution_count": 20,
   "metadata": {},
   "outputs": [
    {
     "data": {
      "image/png": "[encoded data removed]",
      "text/plain": [
       "<Figure size 720x216 with 2 Axes>"
      ]
     },
     "metadata": {
      "needs_background": "light"
     },
     "output_type": "display_data"
    }
   ],
   "source": [
    "gambar = plt.figure(figsize=(10,3), constrained_layout=True)\n",
    "gsarr = gambar.add_gridspec(1, 2)\n",
    "\n",
    "plotpdf = gambar.add_subplot(gsarr[0, 0])\n",
    "plotpdf.scatter(x, y, s=1) # size, color\n",
    "plotpdf.set_xlabel(r\"$x$\")\n",
    "plotpdf.set_ylabel(r\"$f_x$\")\n",
    "\n",
    "plotcdf = gambar.add_subplot(gsarr[0, 1])\n",
    "plotcdf.scatter(x, Y, s=1, c=\"red\") # size, color\n",
    "plotcdf.set_xlabel(r\"$x$\")\n",
    "plotcdf.set_ylabel(r\"$F_x$\");"
   ]
  },
  {
   "cell_type": "code",
   "execution_count": null,
   "metadata": {},
   "outputs": [],
   "source": []
  },
  {
   "cell_type": "markdown",
   "metadata": {},
   "source": [
    "**Exercise**:\n",
    "    \n",
    "1. Suppose a new customer enters a shop every two minutes, on average. After a customer arrives, find the probability that a new customer arrives in less than one minute.\n",
    "\n",
    "2. Suppose an earthquake occurs every 400 days in a certain region, on average. After an earthquake occurs, find the probability that it will take more than 500 days for the next earthquake to occur.\n",
    "\n",
    "3. The number of miles that a particular car can run before its battery wears out is exponentially distributed with an average of 10000 miles. The owner of the car needs to take a 5000-mile trip. What is the probability that he will be able to complete the trip without having to replace the car battery?"
   ]
  },
  {
   "cell_type": "code",
   "execution_count": null,
   "metadata": {},
   "outputs": [],
   "source": []
  },
  {
   "cell_type": "markdown",
   "metadata": {
    "slideshow": {
     "slide_type": "slide"
    }
   },
   "source": [
    "## Other important distribution in sciences\n",
    "\n",
    "Learn by yourself; when you need it... ;)\n",
    "\n",
    "+ **Beta distribution**  is defined on the interval [0, 1] parameterized by two positive shape parameters α and β, that appear as exponents of the random variable and control the shape of the distribution. Simply speaking, Beta distribution is used to represent percentages, proportion or probability outcomes. It can also be said as the distribution of probabilities. Here are some examples which could be modeled using beta distribution:\n",
    "    - How likely it is that the preferred candidate for mayor will receive 70% of the vote. 70% of the vote (0.7) here is the proportion or probability that falls in the limit [0,1].\n",
    "    - How likely is that President Trump will win 2020 presidential elections? Note the value will fall within the limit [0, 1]\n",
    "\n",
    "\n",
    "+ **Gamma distribution** is a continuous probability distribution that is used to model the continuous variables that are always positive and have skewed distributions. It is a two-parameter family of continuous probability distributions. The exponential distribution, Erlang distribution, and chi-squared distribution are special cases of the gamma distribution.  It is a distribution that arises naturally in processes for which the waiting times between events are relevant. It can be thought of as a waiting time between Poisson distributed events. Here are some of the examples of a gamma distribution:\n",
    "    - In life testing, the waiting time until death is a random variable that is frequently modeled with a gamma distribution\n",
    "    - The size of loan defaults or aggregate insurance claims\n",
    "    - The flow of items through manufacturing and distribution processes\n",
    "    - The load on web servers\n",
    "    - The many and varied forms of telecom exchange\n",
    "    \n",
    "\n",
    "+ **Weibull distribution**, e.g. for particle-size distribution\n",
    "\n",
    "---\n",
    "\n",
    "(in the future lectures)\n",
    "\n",
    "+ **Chi distribution** and **Chi-squared distribution** Chi-squared distribution with $k$ degrees of freedom is the distribution of a sum of the squares of $k$ independent standard normal random variables. It is a special case of the gamma distribution and is one of the most widely used probability distributions in inferential statistics, notably in hypothesis testing and in construction of confidence intervals. It is used in the common chi-square tests for some of the following reasons:\n",
    "    - The goodness of fit of an observed distribution to a theoretical one\n",
    "    - The independence of two criteria of classification of qualitative data\n",
    "    - In confidence interval estimation for a population standard deviation of a normal distribution from a sample standard deviation.\n",
    "    \n",
    "    Example of chi distribution:\n",
    "    + Rayleigh distribution (chi distribution with two degrees of freedom)\n",
    "    + Maxwell–Boltzmann distribution of the molecular speeds in an ideal gas (chi distribution with three degrees of freedom: velocity vector in 3D scaled in $\\sqrt{T/m}$)\n",
    "\n",
    "\n",
    "+ **Student's t distribution (t-distribution)** is any member of a family of continuous probability distributions that arise *when estimating the mean of a normally-distributed population in situations where the sample size is small and the population's standard deviation is unknown*. It was developed by English statistician William Sealy Gosset under the pseudonym \"Student\".\n",
    "<!--     + for degree of freedom $\\nu = 1 \\rightarrow$ **Cauchy distribution** \n",
    "    \n",
    "    central limit theorem doesn't work\n",
    "    \n",
    "    <img src=\"img\\weird_cauchy.gif\" width=1000> -->\n",
    "    \n",
    "    \n",
    "+ **F-distribution** a continuous probability distribution that arises frequently as the null distribution of a test statistic, most notably in the analysis of variance (ANOVA) and other F-tests.\n",
    "\n",
    "---\n",
    "\n",
    "etc etc"
   ]
  },
  {
   "cell_type": "code",
   "execution_count": null,
   "metadata": {
    "slideshow": {
     "slide_type": "-"
    }
   },
   "outputs": [],
   "source": []
  },
  {
   "cell_type": "markdown",
   "metadata": {},
   "source": [
    "## Some Important Random Processes \n",
    "There are several random or stochastic processes that you need to know:\n",
    "1. Poisson process\n",
    "2. Gaussian process\n",
    "3. Markov (Chains) process \n",
    "4. Brownian Motion (Wiener process)\n",
    "\n",
    "---"
   ]
  },
  {
   "cell_type": "code",
   "execution_count": null,
   "metadata": {},
   "outputs": [],
   "source": []
  },
  {
   "cell_type": "markdown",
   "metadata": {},
   "source": [
    "**References**:\n",
    "\n",
    "https://en.wikipedia.org/wiki/List_of_probability_distributions\n",
    "\n",
    "https://vitalflux.com/types-probability-distributions-defined-examples/\n",
    "\n",
    "https://medium.com/@andrew.chamberlain/deriving-the-poisson-distribution-from-the-binomial-distribution-840cc1668239\n",
    "\n",
    "https://towardsdatascience.com/poisson-distribution-intuition-and-derivation-1059aeab90d\n",
    "\n",
    "https://medium.com/@srowen/common-probability-distributions-347e6b945ce4\n",
    "\n",
    "https://openstax.org/details/books/introductory-business-statistics\n",
    "\n",
    "http://corysimon.github.io/articles/the-poisson-process/\n",
    "\n",
    "https://www.probabilitycourse.com/"
   ]
  },
  {
   "cell_type": "code",
   "execution_count": null,
   "metadata": {},
   "outputs": [],
   "source": []
  }
 ],
 "metadata": {
  "kernelspec": {
   "display_name": "Python 3",
   "language": "python",
   "name": "python3"
  },
  "language_info": {
   "codemirror_mode": {
    "name": "ipython",
    "version": 3
   },
   "file_extension": ".py",
   "mimetype": "text/x-python",
   "name": "python",
   "nbconvert_exporter": "python",
   "pygments_lexer": "ipython3",
   "version": "3.8.8"
  }
 },
 "nbformat": 4,
 "nbformat_minor": 4
}
